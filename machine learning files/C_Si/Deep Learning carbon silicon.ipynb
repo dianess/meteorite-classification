{
 "cells": [
  {
   "cell_type": "markdown",
   "metadata": {},
   "source": [
    "# Deep Learning for carbon and silicon isotopes"
   ]
  },
  {
   "cell_type": "code",
   "execution_count": 1,
   "metadata": {},
   "outputs": [],
   "source": [
    "# Imports\n",
    "# %matplotlib inline\n",
    "import joblib\n",
    "import matplotlib.pyplot as plt\n",
    "import numpy as np\n",
    "import pandas as pd\n",
    "import tensorflow\n",
    "\n",
    "from numpy.random import seed\n",
    "from sklearn.metrics import classification_report\n",
    "from sklearn.model_selection import train_test_split\n",
    "from sklearn.neighbors import KNeighborsClassifier\n",
    "from sklearn.preprocessing import LabelEncoder, MinMaxScaler\n",
    "from tensorflow.keras.callbacks import EarlyStopping\n",
    "from tensorflow.keras.layers import Dense\n",
    "from tensorflow.keras.models import Sequential\n",
    "from tensorflow.keras.utils import to_categorical"
   ]
  },
  {
   "cell_type": "code",
   "execution_count": 2,
   "metadata": {},
   "outputs": [],
   "source": [
    "# Set the seed value for the notebook so the results are reproducible\n",
    "seed(1)"
   ]
  },
  {
   "cell_type": "code",
   "execution_count": 3,
   "metadata": {},
   "outputs": [
    {
     "data": {
      "text/html": [
       "<div>\n",
       "<style scoped>\n",
       "    .dataframe tbody tr th:only-of-type {\n",
       "        vertical-align: middle;\n",
       "    }\n",
       "\n",
       "    .dataframe tbody tr th {\n",
       "        vertical-align: top;\n",
       "    }\n",
       "\n",
       "    .dataframe thead th {\n",
       "        text-align: right;\n",
       "    }\n",
       "</style>\n",
       "<table border=\"1\" class=\"dataframe\">\n",
       "  <thead>\n",
       "    <tr style=\"text-align: right;\">\n",
       "      <th></th>\n",
       "      <th>Type</th>\n",
       "      <th>carbon_isotopes</th>\n",
       "      <th>silicon_isotopes</th>\n",
       "    </tr>\n",
       "  </thead>\n",
       "  <tbody>\n",
       "    <tr>\n",
       "      <th>0</th>\n",
       "      <td>C</td>\n",
       "      <td>1.300</td>\n",
       "      <td>313.0</td>\n",
       "    </tr>\n",
       "    <tr>\n",
       "      <th>1</th>\n",
       "      <td>AB</td>\n",
       "      <td>1.420</td>\n",
       "      <td>-59.0</td>\n",
       "    </tr>\n",
       "    <tr>\n",
       "      <th>2</th>\n",
       "      <td>AB</td>\n",
       "      <td>1.854</td>\n",
       "      <td>8.0</td>\n",
       "    </tr>\n",
       "    <tr>\n",
       "      <th>3</th>\n",
       "      <td>AB</td>\n",
       "      <td>1.880</td>\n",
       "      <td>20.0</td>\n",
       "    </tr>\n",
       "    <tr>\n",
       "      <th>4</th>\n",
       "      <td>AB</td>\n",
       "      <td>1.910</td>\n",
       "      <td>9.0</td>\n",
       "    </tr>\n",
       "  </tbody>\n",
       "</table>\n",
       "</div>"
      ],
      "text/plain": [
       "  Type  carbon_isotopes  silicon_isotopes\n",
       "0    C            1.300             313.0\n",
       "1   AB            1.420             -59.0\n",
       "2   AB            1.854               8.0\n",
       "3   AB            1.880              20.0\n",
       "4   AB            1.910               9.0"
      ]
     },
     "execution_count": 3,
     "metadata": {},
     "output_type": "execute_result"
    }
   ],
   "source": [
    "# Read the csv file into a pandas DataFrame\n",
    "carbon_silicon = pd.read_csv('presolargrains_C_Si.csv')\n",
    "carbon_silicon.head()"
   ]
  },
  {
   "cell_type": "markdown",
   "metadata": {},
   "source": [
    "## Data Preprocessing"
   ]
  },
  {
   "cell_type": "code",
   "execution_count": 4,
   "metadata": {},
   "outputs": [
    {
     "name": "stdout",
     "output_type": "stream",
     "text": [
      "(14426, 2) (14426,)\n"
     ]
    }
   ],
   "source": [
    "# Drop Type from the X values, use it as our dependent variable y\n",
    "X = carbon_silicon.drop(\"Type\", axis=1)\n",
    "y = carbon_silicon[\"Type\"]\n",
    "print(X.shape, y.shape)"
   ]
  },
  {
   "cell_type": "markdown",
   "metadata": {},
   "source": [
    "## Train Test Split"
   ]
  },
  {
   "cell_type": "code",
   "execution_count": 5,
   "metadata": {},
   "outputs": [],
   "source": [
    "X_train, X_test, y_train, y_test = train_test_split(\n",
    "    X, y, random_state=1, stratify=y)"
   ]
  },
  {
   "cell_type": "markdown",
   "metadata": {},
   "source": [
    "## Scale the data using MinMaxScalar"
   ]
  },
  {
   "cell_type": "code",
   "execution_count": 6,
   "metadata": {},
   "outputs": [],
   "source": [
    "X_scaler = MinMaxScaler().fit(X_train)\n",
    "X_train_scaled = X_scaler.transform(X_train)\n",
    "X_test_scaled = X_scaler.transform(X_test)"
   ]
  },
  {
   "cell_type": "markdown",
   "metadata": {},
   "source": [
    "## Label encode the data set"
   ]
  },
  {
   "cell_type": "code",
   "execution_count": 7,
   "metadata": {},
   "outputs": [],
   "source": [
    "# Use LabelEncoder\n",
    "label_encoder = LabelEncoder()\n",
    "label_encoder.fit(y_train)\n",
    "encoded_y_train = label_encoder.transform(y_train)\n",
    "encoded_y_test = label_encoder.transform(y_test)"
   ]
  },
  {
   "cell_type": "code",
   "execution_count": 8,
   "metadata": {},
   "outputs": [
    {
     "data": {
      "text/plain": [
       "array([[0., 0., 1., ..., 0., 0., 0.],\n",
       "       [0., 0., 1., ..., 0., 0., 0.],\n",
       "       [0., 0., 1., ..., 0., 0., 0.],\n",
       "       ...,\n",
       "       [0., 0., 1., ..., 0., 0., 0.],\n",
       "       [0., 0., 1., ..., 0., 0., 0.],\n",
       "       [0., 0., 1., ..., 0., 0., 0.]], dtype=float32)"
      ]
     },
     "execution_count": 8,
     "metadata": {},
     "output_type": "execute_result"
    }
   ],
   "source": [
    "# Convert encoded labels to one-hot-encoding\n",
    "y_train_categorical = to_categorical(encoded_y_train)\n",
    "y_test_categorical = to_categorical(encoded_y_test)\n",
    "y_train_categorical"
   ]
  },
  {
   "cell_type": "code",
   "execution_count": 9,
   "metadata": {},
   "outputs": [
    {
     "data": {
      "text/plain": [
       "(10819, 8)"
      ]
     },
     "execution_count": 9,
     "metadata": {},
     "output_type": "execute_result"
    }
   ],
   "source": [
    "y_train_categorical.shape"
   ]
  },
  {
   "cell_type": "markdown",
   "metadata": {},
   "source": [
    "## Create a Deep Learning Model"
   ]
  },
  {
   "cell_type": "code",
   "execution_count": 10,
   "metadata": {},
   "outputs": [],
   "source": [
    "# Create model and add layers\n",
    "model = Sequential()"
   ]
  },
  {
   "cell_type": "code",
   "execution_count": 11,
   "metadata": {},
   "outputs": [],
   "source": [
    "\n",
    "model.add(Dense(units=100, activation='relu', input_dim=2))\n",
    "model.add(Dense(units=100, activation='relu'))\n",
    "model.add(Dense(units=8, activation='softmax'))\n"
   ]
  },
  {
   "cell_type": "code",
   "execution_count": 12,
   "metadata": {},
   "outputs": [
    {
     "data": {
      "text/plain": [
       "\"\\nnumber_inputs = 2\\nnumber_hidden_nodes = 6\\nmodel.add(Dense(units=number_hidden_nodes,\\n                activation='relu', input_dim=number_inputs))\\n\""
      ]
     },
     "execution_count": 12,
     "metadata": {},
     "output_type": "execute_result"
    }
   ],
   "source": [
    "'''\n",
    "number_inputs = 2\n",
    "number_hidden_nodes = 6\n",
    "model.add(Dense(units=number_hidden_nodes,\n",
    "                activation='relu', input_dim=number_inputs))\n",
    "'''"
   ]
  },
  {
   "cell_type": "code",
   "execution_count": 13,
   "metadata": {},
   "outputs": [
    {
     "data": {
      "text/plain": [
       "\"\\nnumber_classes = 8\\nmodel.add(Dense(units=number_classes, activation='softmax'))\\n\""
      ]
     },
     "execution_count": 13,
     "metadata": {},
     "output_type": "execute_result"
    }
   ],
   "source": [
    "'''\n",
    "number_classes = 8\n",
    "model.add(Dense(units=number_classes, activation='softmax'))\n",
    "'''"
   ]
  },
  {
   "cell_type": "markdown",
   "metadata": {},
   "source": [
    "## Compile and train the model"
   ]
  },
  {
   "cell_type": "code",
   "execution_count": 14,
   "metadata": {},
   "outputs": [],
   "source": [
    "# Compile the model\n",
    "model.compile(optimizer='adam',\n",
    "              loss='categorical_crossentropy',\n",
    "              metrics=['accuracy'])"
   ]
  },
  {
   "cell_type": "code",
   "execution_count": 15,
   "metadata": {},
   "outputs": [
    {
     "name": "stdout",
     "output_type": "stream",
     "text": [
      "Model: \"sequential\"\n",
      "_________________________________________________________________\n",
      "Layer (type)                 Output Shape              Param #   \n",
      "=================================================================\n",
      "dense (Dense)                (None, 100)               300       \n",
      "_________________________________________________________________\n",
      "dense_1 (Dense)              (None, 100)               10100     \n",
      "_________________________________________________________________\n",
      "dense_2 (Dense)              (None, 8)                 808       \n",
      "=================================================================\n",
      "Total params: 11,208\n",
      "Trainable params: 11,208\n",
      "Non-trainable params: 0\n",
      "_________________________________________________________________\n"
     ]
    }
   ],
   "source": [
    "model.summary()"
   ]
  },
  {
   "cell_type": "code",
   "execution_count": 16,
   "metadata": {},
   "outputs": [
    {
     "data": {
      "text/plain": [
       "(10819, 2)"
      ]
     },
     "execution_count": 16,
     "metadata": {},
     "output_type": "execute_result"
    }
   ],
   "source": [
    "X_train_scaled.shape"
   ]
  },
  {
   "cell_type": "code",
   "execution_count": 17,
   "metadata": {},
   "outputs": [
    {
     "name": "stdout",
     "output_type": "stream",
     "text": [
      "Train on 10819 samples\n",
      "Epoch 1/100\n",
      "10819/10819 - 1s - loss: 0.8124 - accuracy: 0.8398\n",
      "Epoch 2/100\n",
      "10819/10819 - 0s - loss: 0.5903 - accuracy: 0.8544\n",
      "Epoch 3/100\n",
      "10819/10819 - 0s - loss: 0.5324 - accuracy: 0.8657\n",
      "Epoch 4/100\n",
      "10819/10819 - 0s - loss: 0.4985 - accuracy: 0.8697\n",
      "Epoch 5/100\n",
      "10819/10819 - 0s - loss: 0.4711 - accuracy: 0.8712\n",
      "Epoch 6/100\n",
      "10819/10819 - 0s - loss: 0.4491 - accuracy: 0.8719\n",
      "Epoch 7/100\n",
      "10819/10819 - 0s - loss: 0.4288 - accuracy: 0.8743\n",
      "Epoch 8/100\n",
      "10819/10819 - 0s - loss: 0.4062 - accuracy: 0.8748\n",
      "Epoch 9/100\n",
      "10819/10819 - 0s - loss: 0.3844 - accuracy: 0.8774\n",
      "Epoch 10/100\n",
      "10819/10819 - 0s - loss: 0.3676 - accuracy: 0.8822\n",
      "Epoch 11/100\n",
      "10819/10819 - 0s - loss: 0.3407 - accuracy: 0.8896\n",
      "Epoch 12/100\n",
      "10819/10819 - 0s - loss: 0.3207 - accuracy: 0.8984\n",
      "Epoch 13/100\n",
      "10819/10819 - 0s - loss: 0.3062 - accuracy: 0.9054\n",
      "Epoch 14/100\n",
      "10819/10819 - 0s - loss: 0.2899 - accuracy: 0.9137\n",
      "Epoch 15/100\n",
      "10819/10819 - 0s - loss: 0.2773 - accuracy: 0.9191\n",
      "Epoch 16/100\n",
      "10819/10819 - 0s - loss: 0.2653 - accuracy: 0.9243\n",
      "Epoch 17/100\n",
      "10819/10819 - 0s - loss: 0.2590 - accuracy: 0.9266\n",
      "Epoch 18/100\n",
      "10819/10819 - 0s - loss: 0.2503 - accuracy: 0.9317\n",
      "Epoch 19/100\n",
      "10819/10819 - 0s - loss: 0.2448 - accuracy: 0.9317\n",
      "Epoch 20/100\n",
      "10819/10819 - 0s - loss: 0.2388 - accuracy: 0.9371\n",
      "Epoch 21/100\n",
      "10819/10819 - 0s - loss: 0.2349 - accuracy: 0.9346\n",
      "Epoch 22/100\n",
      "10819/10819 - 0s - loss: 0.2294 - accuracy: 0.9366\n",
      "Epoch 23/100\n",
      "10819/10819 - 0s - loss: 0.2237 - accuracy: 0.9403\n",
      "Epoch 24/100\n",
      "10819/10819 - 0s - loss: 0.2215 - accuracy: 0.9386\n",
      "Epoch 25/100\n",
      "10819/10819 - 0s - loss: 0.2152 - accuracy: 0.9408\n",
      "Epoch 26/100\n",
      "10819/10819 - 0s - loss: 0.2151 - accuracy: 0.9408\n",
      "Epoch 27/100\n",
      "10819/10819 - 0s - loss: 0.2108 - accuracy: 0.9400\n",
      "Epoch 28/100\n",
      "10819/10819 - 0s - loss: 0.2057 - accuracy: 0.9446\n",
      "Epoch 29/100\n",
      "10819/10819 - 0s - loss: 0.2021 - accuracy: 0.9443\n",
      "Epoch 30/100\n",
      "10819/10819 - 0s - loss: 0.2055 - accuracy: 0.9416\n",
      "Epoch 31/100\n",
      "10819/10819 - 0s - loss: 0.1976 - accuracy: 0.9462\n",
      "Epoch 32/100\n",
      "10819/10819 - 0s - loss: 0.1973 - accuracy: 0.9449\n",
      "Epoch 33/100\n",
      "10819/10819 - 0s - loss: 0.1986 - accuracy: 0.9438\n",
      "Epoch 34/100\n",
      "10819/10819 - 0s - loss: 0.1936 - accuracy: 0.9446\n",
      "Epoch 35/100\n",
      "10819/10819 - 0s - loss: 0.2002 - accuracy: 0.9445\n",
      "Epoch 36/100\n",
      "10819/10819 - 0s - loss: 0.1896 - accuracy: 0.9488\n",
      "Epoch 37/100\n",
      "10819/10819 - 0s - loss: 0.1876 - accuracy: 0.9493\n",
      "Epoch 38/100\n",
      "10819/10819 - 0s - loss: 0.1875 - accuracy: 0.9477\n",
      "Epoch 39/100\n",
      "10819/10819 - 0s - loss: 0.1888 - accuracy: 0.9466\n",
      "Epoch 40/100\n",
      "10819/10819 - 0s - loss: 0.1873 - accuracy: 0.9475\n",
      "Epoch 41/100\n",
      "10819/10819 - 0s - loss: 0.1866 - accuracy: 0.9477\n",
      "Epoch 42/100\n",
      "10819/10819 - 0s - loss: 0.1877 - accuracy: 0.9458\n",
      "Epoch 43/100\n",
      "10819/10819 - 0s - loss: 0.1829 - accuracy: 0.9481\n",
      "Epoch 44/100\n",
      "10819/10819 - 0s - loss: 0.1812 - accuracy: 0.9508\n",
      "Epoch 45/100\n",
      "10819/10819 - 0s - loss: 0.1866 - accuracy: 0.9464\n",
      "Epoch 46/100\n",
      "10819/10819 - 0s - loss: 0.1810 - accuracy: 0.9506\n",
      "Epoch 47/100\n",
      "10819/10819 - 0s - loss: 0.1817 - accuracy: 0.9474\n",
      "Epoch 48/100\n",
      "10819/10819 - 0s - loss: 0.1836 - accuracy: 0.9486\n",
      "Epoch 49/100\n",
      "10819/10819 - 0s - loss: 0.1778 - accuracy: 0.9512\n",
      "Epoch 50/100\n",
      "10819/10819 - 0s - loss: 0.1808 - accuracy: 0.9489\n",
      "Epoch 51/100\n",
      "10819/10819 - 0s - loss: 0.1774 - accuracy: 0.9517\n",
      "Epoch 52/100\n",
      "10819/10819 - 0s - loss: 0.1770 - accuracy: 0.9504\n",
      "Epoch 53/100\n",
      "10819/10819 - 0s - loss: 0.1775 - accuracy: 0.9514\n",
      "Epoch 54/100\n",
      "10819/10819 - 0s - loss: 0.1760 - accuracy: 0.9512\n",
      "Epoch 55/100\n",
      "10819/10819 - 0s - loss: 0.1775 - accuracy: 0.9501\n",
      "Epoch 56/100\n",
      "10819/10819 - 0s - loss: 0.1769 - accuracy: 0.9486\n",
      "Epoch 57/100\n",
      "10819/10819 - 0s - loss: 0.1757 - accuracy: 0.9503\n",
      "Epoch 58/100\n",
      "10819/10819 - 0s - loss: 0.1770 - accuracy: 0.9504\n",
      "Epoch 59/100\n",
      "10819/10819 - 0s - loss: 0.1735 - accuracy: 0.9514\n",
      "Epoch 60/100\n",
      "10819/10819 - 0s - loss: 0.1770 - accuracy: 0.9502\n",
      "Epoch 61/100\n",
      "10819/10819 - 0s - loss: 0.1742 - accuracy: 0.9509\n",
      "Epoch 62/100\n",
      "10819/10819 - 0s - loss: 0.1784 - accuracy: 0.9495\n",
      "Epoch 63/100\n",
      "10819/10819 - 0s - loss: 0.1723 - accuracy: 0.9524\n",
      "Epoch 64/100\n",
      "10819/10819 - 0s - loss: 0.1749 - accuracy: 0.9500\n",
      "Epoch 65/100\n",
      "10819/10819 - 0s - loss: 0.1732 - accuracy: 0.9513\n",
      "Epoch 66/100\n",
      "10819/10819 - 0s - loss: 0.1735 - accuracy: 0.9509\n",
      "Epoch 67/100\n",
      "10819/10819 - 0s - loss: 0.1717 - accuracy: 0.9520\n",
      "Epoch 68/100\n",
      "10819/10819 - 0s - loss: 0.1722 - accuracy: 0.9530\n",
      "Epoch 69/100\n",
      "10819/10819 - 0s - loss: 0.1757 - accuracy: 0.9493\n",
      "Epoch 70/100\n",
      "10819/10819 - 0s - loss: 0.1692 - accuracy: 0.9539\n",
      "Epoch 71/100\n",
      "10819/10819 - 0s - loss: 0.1743 - accuracy: 0.9501\n",
      "Epoch 72/100\n",
      "10819/10819 - 0s - loss: 0.1739 - accuracy: 0.9520\n",
      "Epoch 73/100\n",
      "10819/10819 - 0s - loss: 0.1754 - accuracy: 0.9509\n",
      "Epoch 74/100\n",
      "10819/10819 - 0s - loss: 0.1740 - accuracy: 0.9501\n",
      "Epoch 75/100\n",
      "10819/10819 - 0s - loss: 0.1701 - accuracy: 0.9523\n",
      "Epoch 76/100\n",
      "10819/10819 - 0s - loss: 0.1723 - accuracy: 0.9531\n",
      "Epoch 77/100\n",
      "10819/10819 - 0s - loss: 0.1730 - accuracy: 0.9505\n",
      "Epoch 78/100\n",
      "10819/10819 - 0s - loss: 0.1718 - accuracy: 0.9518\n",
      "Epoch 79/100\n",
      "10819/10819 - 0s - loss: 0.1707 - accuracy: 0.9523\n",
      "Epoch 80/100\n",
      "10819/10819 - 0s - loss: 0.1720 - accuracy: 0.9530\n",
      "Epoch 81/100\n",
      "10819/10819 - 0s - loss: 0.1730 - accuracy: 0.9505\n",
      "Epoch 82/100\n",
      "10819/10819 - 0s - loss: 0.1761 - accuracy: 0.9497\n",
      "Epoch 83/100\n",
      "10819/10819 - 0s - loss: 0.1692 - accuracy: 0.9518\n",
      "Epoch 84/100\n",
      "10819/10819 - 0s - loss: 0.1682 - accuracy: 0.9535\n",
      "Epoch 85/100\n",
      "10819/10819 - 0s - loss: 0.1691 - accuracy: 0.9530\n",
      "Epoch 86/100\n",
      "10819/10819 - 0s - loss: 0.1715 - accuracy: 0.9492\n",
      "Epoch 87/100\n",
      "10819/10819 - 0s - loss: 0.1689 - accuracy: 0.9521\n",
      "Epoch 88/100\n",
      "10819/10819 - 0s - loss: 0.1750 - accuracy: 0.9494\n",
      "Epoch 89/100\n",
      "10819/10819 - 0s - loss: 0.1676 - accuracy: 0.9541\n",
      "Epoch 90/100\n",
      "10819/10819 - 0s - loss: 0.1725 - accuracy: 0.9499\n",
      "Epoch 91/100\n",
      "10819/10819 - 0s - loss: 0.1671 - accuracy: 0.9536\n",
      "Epoch 92/100\n",
      "10819/10819 - 0s - loss: 0.1687 - accuracy: 0.9528\n",
      "Epoch 93/100\n",
      "10819/10819 - 0s - loss: 0.1703 - accuracy: 0.9522\n",
      "Epoch 94/100\n",
      "10819/10819 - 0s - loss: 0.1682 - accuracy: 0.9522\n",
      "Epoch 95/100\n",
      "10819/10819 - 0s - loss: 0.1697 - accuracy: 0.9525\n",
      "Epoch 96/100\n",
      "10819/10819 - 0s - loss: 0.1685 - accuracy: 0.9530\n",
      "Epoch 97/100\n",
      "10819/10819 - 0s - loss: 0.1716 - accuracy: 0.9510\n",
      "Epoch 98/100\n",
      "10819/10819 - 0s - loss: 0.1684 - accuracy: 0.9533\n",
      "Epoch 99/100\n",
      "10819/10819 - 0s - loss: 0.1666 - accuracy: 0.9536\n",
      "Epoch 100/100\n",
      "10819/10819 - 0s - loss: 0.1690 - accuracy: 0.9518\n"
     ]
    },
    {
     "data": {
      "text/plain": [
       "<tensorflow.python.keras.callbacks.History at 0x10ed97278>"
      ]
     },
     "execution_count": 17,
     "metadata": {},
     "output_type": "execute_result"
    }
   ],
   "source": [
    "# Train the model\n",
    "# Set early stopping as callback\n",
    "callbacks = [EarlyStopping(monitor='val_loss', patience=2)]\n",
    "model.fit(\n",
    "    X_train_scaled,\n",
    "    y_train_categorical,\n",
    "    epochs=100,\n",
    "    shuffle=True,\n",
    "    verbose=2\n",
    ")"
   ]
  },
  {
   "cell_type": "markdown",
   "metadata": {},
   "source": [
    "## Quantify the trained model"
   ]
  },
  {
   "cell_type": "code",
   "execution_count": 23,
   "metadata": {},
   "outputs": [
    {
     "name": "stdout",
     "output_type": "stream",
     "text": [
      "3607/3607 - 0s - loss: 0.1875 - accuracy: 0.9312\n",
      "Deep Learning - Loss: 0.18751426216184944, Accuracy: 0.9312447905540466\n"
     ]
    }
   ],
   "source": [
    "model_loss, model_accuracy = model.evaluate(\n",
    "    X_test_scaled, y_test_categorical, verbose=2)\n",
    "print(\n",
    "    f\"Deep Learning - Loss: {model_loss}, Accuracy: {model_accuracy}\")"
   ]
  },
  {
   "cell_type": "markdown",
   "metadata": {},
   "source": [
    "## Predict"
   ]
  },
  {
   "cell_type": "code",
   "execution_count": 19,
   "metadata": {},
   "outputs": [],
   "source": [
    "# Predict classes (Types)\n",
    "encoded_predictions = model.predict_classes(X_test_scaled)\n",
    "prediction_labels = label_encoder.inverse_transform(encoded_predictions)"
   ]
  },
  {
   "cell_type": "code",
   "execution_count": 20,
   "metadata": {},
   "outputs": [
    {
     "data": {
      "text/html": [
       "<div>\n",
       "<style scoped>\n",
       "    .dataframe tbody tr th:only-of-type {\n",
       "        vertical-align: middle;\n",
       "    }\n",
       "\n",
       "    .dataframe tbody tr th {\n",
       "        vertical-align: top;\n",
       "    }\n",
       "\n",
       "    .dataframe thead th {\n",
       "        text-align: right;\n",
       "    }\n",
       "</style>\n",
       "<table border=\"1\" class=\"dataframe\">\n",
       "  <thead>\n",
       "    <tr style=\"text-align: right;\">\n",
       "      <th></th>\n",
       "      <th>Prediction</th>\n",
       "      <th>Actual</th>\n",
       "    </tr>\n",
       "  </thead>\n",
       "  <tbody>\n",
       "    <tr>\n",
       "      <th>0</th>\n",
       "      <td>M</td>\n",
       "      <td>M</td>\n",
       "    </tr>\n",
       "    <tr>\n",
       "      <th>1</th>\n",
       "      <td>M</td>\n",
       "      <td>M</td>\n",
       "    </tr>\n",
       "    <tr>\n",
       "      <th>2</th>\n",
       "      <td>M</td>\n",
       "      <td>M</td>\n",
       "    </tr>\n",
       "    <tr>\n",
       "      <th>3</th>\n",
       "      <td>M</td>\n",
       "      <td>M</td>\n",
       "    </tr>\n",
       "    <tr>\n",
       "      <th>4</th>\n",
       "      <td>M</td>\n",
       "      <td>Z</td>\n",
       "    </tr>\n",
       "    <tr>\n",
       "      <th>5</th>\n",
       "      <td>M</td>\n",
       "      <td>M</td>\n",
       "    </tr>\n",
       "    <tr>\n",
       "      <th>6</th>\n",
       "      <td>M</td>\n",
       "      <td>M</td>\n",
       "    </tr>\n",
       "    <tr>\n",
       "      <th>7</th>\n",
       "      <td>M</td>\n",
       "      <td>M</td>\n",
       "    </tr>\n",
       "    <tr>\n",
       "      <th>8</th>\n",
       "      <td>M</td>\n",
       "      <td>M</td>\n",
       "    </tr>\n",
       "    <tr>\n",
       "      <th>9</th>\n",
       "      <td>M</td>\n",
       "      <td>M</td>\n",
       "    </tr>\n",
       "    <tr>\n",
       "      <th>10</th>\n",
       "      <td>M</td>\n",
       "      <td>M</td>\n",
       "    </tr>\n",
       "    <tr>\n",
       "      <th>11</th>\n",
       "      <td>M</td>\n",
       "      <td>M</td>\n",
       "    </tr>\n",
       "    <tr>\n",
       "      <th>12</th>\n",
       "      <td>M</td>\n",
       "      <td>M</td>\n",
       "    </tr>\n",
       "    <tr>\n",
       "      <th>13</th>\n",
       "      <td>M</td>\n",
       "      <td>M</td>\n",
       "    </tr>\n",
       "    <tr>\n",
       "      <th>14</th>\n",
       "      <td>M</td>\n",
       "      <td>M</td>\n",
       "    </tr>\n",
       "    <tr>\n",
       "      <th>15</th>\n",
       "      <td>M</td>\n",
       "      <td>M</td>\n",
       "    </tr>\n",
       "    <tr>\n",
       "      <th>16</th>\n",
       "      <td>M</td>\n",
       "      <td>M</td>\n",
       "    </tr>\n",
       "    <tr>\n",
       "      <th>17</th>\n",
       "      <td>M</td>\n",
       "      <td>M</td>\n",
       "    </tr>\n",
       "    <tr>\n",
       "      <th>18</th>\n",
       "      <td>Y</td>\n",
       "      <td>M</td>\n",
       "    </tr>\n",
       "    <tr>\n",
       "      <th>19</th>\n",
       "      <td>M</td>\n",
       "      <td>M</td>\n",
       "    </tr>\n",
       "    <tr>\n",
       "      <th>20</th>\n",
       "      <td>M</td>\n",
       "      <td>M</td>\n",
       "    </tr>\n",
       "    <tr>\n",
       "      <th>21</th>\n",
       "      <td>M</td>\n",
       "      <td>M</td>\n",
       "    </tr>\n",
       "    <tr>\n",
       "      <th>22</th>\n",
       "      <td>M</td>\n",
       "      <td>M</td>\n",
       "    </tr>\n",
       "    <tr>\n",
       "      <th>23</th>\n",
       "      <td>C</td>\n",
       "      <td>C</td>\n",
       "    </tr>\n",
       "    <tr>\n",
       "      <th>24</th>\n",
       "      <td>M</td>\n",
       "      <td>M</td>\n",
       "    </tr>\n",
       "    <tr>\n",
       "      <th>25</th>\n",
       "      <td>M</td>\n",
       "      <td>M</td>\n",
       "    </tr>\n",
       "    <tr>\n",
       "      <th>26</th>\n",
       "      <td>M</td>\n",
       "      <td>M</td>\n",
       "    </tr>\n",
       "    <tr>\n",
       "      <th>27</th>\n",
       "      <td>M</td>\n",
       "      <td>M</td>\n",
       "    </tr>\n",
       "    <tr>\n",
       "      <th>28</th>\n",
       "      <td>M</td>\n",
       "      <td>M</td>\n",
       "    </tr>\n",
       "    <tr>\n",
       "      <th>29</th>\n",
       "      <td>AB</td>\n",
       "      <td>AB</td>\n",
       "    </tr>\n",
       "    <tr>\n",
       "      <th>...</th>\n",
       "      <td>...</td>\n",
       "      <td>...</td>\n",
       "    </tr>\n",
       "    <tr>\n",
       "      <th>3577</th>\n",
       "      <td>M</td>\n",
       "      <td>M</td>\n",
       "    </tr>\n",
       "    <tr>\n",
       "      <th>3578</th>\n",
       "      <td>M</td>\n",
       "      <td>M</td>\n",
       "    </tr>\n",
       "    <tr>\n",
       "      <th>3579</th>\n",
       "      <td>M</td>\n",
       "      <td>M</td>\n",
       "    </tr>\n",
       "    <tr>\n",
       "      <th>3580</th>\n",
       "      <td>Y</td>\n",
       "      <td>Y</td>\n",
       "    </tr>\n",
       "    <tr>\n",
       "      <th>3581</th>\n",
       "      <td>M</td>\n",
       "      <td>M</td>\n",
       "    </tr>\n",
       "    <tr>\n",
       "      <th>3582</th>\n",
       "      <td>M</td>\n",
       "      <td>M</td>\n",
       "    </tr>\n",
       "    <tr>\n",
       "      <th>3583</th>\n",
       "      <td>M</td>\n",
       "      <td>M</td>\n",
       "    </tr>\n",
       "    <tr>\n",
       "      <th>3584</th>\n",
       "      <td>M</td>\n",
       "      <td>M</td>\n",
       "    </tr>\n",
       "    <tr>\n",
       "      <th>3585</th>\n",
       "      <td>AB</td>\n",
       "      <td>AB</td>\n",
       "    </tr>\n",
       "    <tr>\n",
       "      <th>3586</th>\n",
       "      <td>M</td>\n",
       "      <td>M</td>\n",
       "    </tr>\n",
       "    <tr>\n",
       "      <th>3587</th>\n",
       "      <td>M</td>\n",
       "      <td>M</td>\n",
       "    </tr>\n",
       "    <tr>\n",
       "      <th>3588</th>\n",
       "      <td>M</td>\n",
       "      <td>M</td>\n",
       "    </tr>\n",
       "    <tr>\n",
       "      <th>3589</th>\n",
       "      <td>M</td>\n",
       "      <td>M</td>\n",
       "    </tr>\n",
       "    <tr>\n",
       "      <th>3590</th>\n",
       "      <td>M</td>\n",
       "      <td>M</td>\n",
       "    </tr>\n",
       "    <tr>\n",
       "      <th>3591</th>\n",
       "      <td>M</td>\n",
       "      <td>M</td>\n",
       "    </tr>\n",
       "    <tr>\n",
       "      <th>3592</th>\n",
       "      <td>M</td>\n",
       "      <td>M</td>\n",
       "    </tr>\n",
       "    <tr>\n",
       "      <th>3593</th>\n",
       "      <td>M</td>\n",
       "      <td>M</td>\n",
       "    </tr>\n",
       "    <tr>\n",
       "      <th>3594</th>\n",
       "      <td>M</td>\n",
       "      <td>M</td>\n",
       "    </tr>\n",
       "    <tr>\n",
       "      <th>3595</th>\n",
       "      <td>Y</td>\n",
       "      <td>Y</td>\n",
       "    </tr>\n",
       "    <tr>\n",
       "      <th>3596</th>\n",
       "      <td>M</td>\n",
       "      <td>M</td>\n",
       "    </tr>\n",
       "    <tr>\n",
       "      <th>3597</th>\n",
       "      <td>M</td>\n",
       "      <td>M</td>\n",
       "    </tr>\n",
       "    <tr>\n",
       "      <th>3598</th>\n",
       "      <td>M</td>\n",
       "      <td>M</td>\n",
       "    </tr>\n",
       "    <tr>\n",
       "      <th>3599</th>\n",
       "      <td>M</td>\n",
       "      <td>M</td>\n",
       "    </tr>\n",
       "    <tr>\n",
       "      <th>3600</th>\n",
       "      <td>M</td>\n",
       "      <td>M</td>\n",
       "    </tr>\n",
       "    <tr>\n",
       "      <th>3601</th>\n",
       "      <td>M</td>\n",
       "      <td>M</td>\n",
       "    </tr>\n",
       "    <tr>\n",
       "      <th>3602</th>\n",
       "      <td>M</td>\n",
       "      <td>M</td>\n",
       "    </tr>\n",
       "    <tr>\n",
       "      <th>3603</th>\n",
       "      <td>M</td>\n",
       "      <td>M</td>\n",
       "    </tr>\n",
       "    <tr>\n",
       "      <th>3604</th>\n",
       "      <td>Y</td>\n",
       "      <td>Y</td>\n",
       "    </tr>\n",
       "    <tr>\n",
       "      <th>3605</th>\n",
       "      <td>M</td>\n",
       "      <td>M</td>\n",
       "    </tr>\n",
       "    <tr>\n",
       "      <th>3606</th>\n",
       "      <td>M</td>\n",
       "      <td>M</td>\n",
       "    </tr>\n",
       "  </tbody>\n",
       "</table>\n",
       "<p>3607 rows × 2 columns</p>\n",
       "</div>"
      ],
      "text/plain": [
       "     Prediction Actual\n",
       "0             M      M\n",
       "1             M      M\n",
       "2             M      M\n",
       "3             M      M\n",
       "4             M      Z\n",
       "5             M      M\n",
       "6             M      M\n",
       "7             M      M\n",
       "8             M      M\n",
       "9             M      M\n",
       "10            M      M\n",
       "11            M      M\n",
       "12            M      M\n",
       "13            M      M\n",
       "14            M      M\n",
       "15            M      M\n",
       "16            M      M\n",
       "17            M      M\n",
       "18            Y      M\n",
       "19            M      M\n",
       "20            M      M\n",
       "21            M      M\n",
       "22            M      M\n",
       "23            C      C\n",
       "24            M      M\n",
       "25            M      M\n",
       "26            M      M\n",
       "27            M      M\n",
       "28            M      M\n",
       "29           AB     AB\n",
       "...         ...    ...\n",
       "3577          M      M\n",
       "3578          M      M\n",
       "3579          M      M\n",
       "3580          Y      Y\n",
       "3581          M      M\n",
       "3582          M      M\n",
       "3583          M      M\n",
       "3584          M      M\n",
       "3585         AB     AB\n",
       "3586          M      M\n",
       "3587          M      M\n",
       "3588          M      M\n",
       "3589          M      M\n",
       "3590          M      M\n",
       "3591          M      M\n",
       "3592          M      M\n",
       "3593          M      M\n",
       "3594          M      M\n",
       "3595          Y      Y\n",
       "3596          M      M\n",
       "3597          M      M\n",
       "3598          M      M\n",
       "3599          M      M\n",
       "3600          M      M\n",
       "3601          M      M\n",
       "3602          M      M\n",
       "3603          M      M\n",
       "3604          Y      Y\n",
       "3605          M      M\n",
       "3606          M      M\n",
       "\n",
       "[3607 rows x 2 columns]"
      ]
     },
     "execution_count": 20,
     "metadata": {},
     "output_type": "execute_result"
    }
   ],
   "source": [
    "# Create and print dataframe with predicted and actual types\n",
    "pd.DataFrame({\"Prediction\": prediction_labels, \"Actual\": y_test}).reset_index(drop=True)"
   ]
  },
  {
   "cell_type": "markdown",
   "metadata": {},
   "source": [
    "## Save the model"
   ]
  },
  {
   "cell_type": "code",
   "execution_count": 24,
   "metadata": {},
   "outputs": [
    {
     "name": "stdout",
     "output_type": "stream",
     "text": [
      "INFO:tensorflow:Assets written to: deeplearning_C_Si/assets\n"
     ]
    }
   ],
   "source": [
    "# Save model to file\n",
    "#filename = 'deeplearning_C_Si.sav'\n",
    "#joblib.dump(model, filename)\n",
    "model.save('deeplearning_C_Si', save_format='tf')"
   ]
  },
  {
   "cell_type": "markdown",
   "metadata": {},
   "source": [
    "## Summary:"
   ]
  },
  {
   "cell_type": "markdown",
   "metadata": {},
   "source": [
    "### Deep Learning carbon and silicon: 93.1%"
   ]
  },
  {
   "cell_type": "code",
   "execution_count": null,
   "metadata": {},
   "outputs": [],
   "source": []
  }
 ],
 "metadata": {
  "kernelspec": {
   "display_name": "Python 3",
   "language": "python",
   "name": "python3"
  },
  "language_info": {
   "codemirror_mode": {
    "name": "ipython",
    "version": 3
   },
   "file_extension": ".py",
   "mimetype": "text/x-python",
   "name": "python",
   "nbconvert_exporter": "python",
   "pygments_lexer": "ipython3",
   "version": "3.7.3"
  }
 },
 "nbformat": 4,
 "nbformat_minor": 2
}
