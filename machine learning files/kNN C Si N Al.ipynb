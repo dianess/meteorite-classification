{
 "cells": [
  {
   "cell_type": "markdown",
   "metadata": {},
   "source": [
    "# kNN: k Nearest Neighbor for carbon, silicon, nitrogen, and aluminum isotopes"
   ]
  },
  {
   "cell_type": "code",
   "execution_count": 11,
   "metadata": {},
   "outputs": [],
   "source": [
    "# Imports\n",
    "import warnings\n",
    "warnings.simplefilter('ignore')\n",
    "\n",
    "# %matplotlib inline\n",
    "import joblib\n",
    "import matplotlib.pyplot as plt\n",
    "import numpy as np\n",
    "import pandas as pd\n",
    "\n",
    "from sklearn import preprocessing\n",
    "from sklearn import utils\n",
    "from sklearn.model_selection import train_test_split\n",
    "from sklearn.neighbors import KNeighborsClassifier\n",
    "from sklearn.preprocessing import LabelEncoder\n",
    "from sklearn.preprocessing import MinMaxScaler"
   ]
  },
  {
   "cell_type": "markdown",
   "metadata": {},
   "source": [
    "## Read the CSV file"
   ]
  },
  {
   "cell_type": "code",
   "execution_count": 12,
   "metadata": {},
   "outputs": [
    {
     "data": {
      "text/html": [
       "<div>\n",
       "<style scoped>\n",
       "    .dataframe tbody tr th:only-of-type {\n",
       "        vertical-align: middle;\n",
       "    }\n",
       "\n",
       "    .dataframe tbody tr th {\n",
       "        vertical-align: top;\n",
       "    }\n",
       "\n",
       "    .dataframe thead th {\n",
       "        text-align: right;\n",
       "    }\n",
       "</style>\n",
       "<table border=\"1\" class=\"dataframe\">\n",
       "  <thead>\n",
       "    <tr style=\"text-align: right;\">\n",
       "      <th></th>\n",
       "      <th>Type</th>\n",
       "      <th>carbon_12_13</th>\n",
       "      <th>nitrogen_14_15</th>\n",
       "      <th>aluminum_26_27</th>\n",
       "      <th>silicon_29_28</th>\n",
       "      <th>silicon_30_28</th>\n",
       "    </tr>\n",
       "  </thead>\n",
       "  <tbody>\n",
       "    <tr>\n",
       "      <th>0</th>\n",
       "      <td>X</td>\n",
       "      <td>1581.00</td>\n",
       "      <td>116.0</td>\n",
       "      <td>0.0095</td>\n",
       "      <td>-684.0</td>\n",
       "      <td>-490.0</td>\n",
       "    </tr>\n",
       "    <tr>\n",
       "      <th>1</th>\n",
       "      <td>X</td>\n",
       "      <td>234.75</td>\n",
       "      <td>187.2</td>\n",
       "      <td>0.3327</td>\n",
       "      <td>-683.0</td>\n",
       "      <td>-501.0</td>\n",
       "    </tr>\n",
       "    <tr>\n",
       "      <th>2</th>\n",
       "      <td>X</td>\n",
       "      <td>140.00</td>\n",
       "      <td>97.0</td>\n",
       "      <td>0.0170</td>\n",
       "      <td>-653.0</td>\n",
       "      <td>-446.0</td>\n",
       "    </tr>\n",
       "    <tr>\n",
       "      <th>3</th>\n",
       "      <td>X</td>\n",
       "      <td>223.00</td>\n",
       "      <td>102.0</td>\n",
       "      <td>0.1140</td>\n",
       "      <td>-600.0</td>\n",
       "      <td>-459.0</td>\n",
       "    </tr>\n",
       "    <tr>\n",
       "      <th>4</th>\n",
       "      <td>X</td>\n",
       "      <td>1693.89</td>\n",
       "      <td>63.2</td>\n",
       "      <td>0.2364</td>\n",
       "      <td>-588.0</td>\n",
       "      <td>-605.0</td>\n",
       "    </tr>\n",
       "  </tbody>\n",
       "</table>\n",
       "</div>"
      ],
      "text/plain": [
       "  Type  carbon_12_13  nitrogen_14_15  aluminum_26_27  silicon_29_28  \\\n",
       "0    X       1581.00           116.0          0.0095         -684.0   \n",
       "1    X        234.75           187.2          0.3327         -683.0   \n",
       "2    X        140.00            97.0          0.0170         -653.0   \n",
       "3    X        223.00           102.0          0.1140         -600.0   \n",
       "4    X       1693.89            63.2          0.2364         -588.0   \n",
       "\n",
       "   silicon_30_28  \n",
       "0         -490.0  \n",
       "1         -501.0  \n",
       "2         -446.0  \n",
       "3         -459.0  \n",
       "4         -605.0  "
      ]
     },
     "execution_count": 12,
     "metadata": {},
     "output_type": "execute_result"
    }
   ],
   "source": [
    "# Read the csv file into a pandas DataFrame\n",
    "C_Si_N_Al = pd.read_csv('presolargrains_C_Si_N_Al.csv')\n",
    "C_Si_N_Al.head()"
   ]
  },
  {
   "cell_type": "code",
   "execution_count": 13,
   "metadata": {},
   "outputs": [
    {
     "name": "stdout",
     "output_type": "stream",
     "text": [
      "(328, 5) (328, 1)\n"
     ]
    }
   ],
   "source": [
    "# Set Type for y value\n",
    "X = C_Si_N_Al.drop(\"Type\", axis=1)\n",
    "y = C_Si_N_Al['Type'].values.reshape(-1, 1)\n",
    "target_names = [\"AB\", \"C\", \"M\", \"N\", \"X\", \"Y\", \"Z\"]\n",
    "print(X.shape, y.shape)"
   ]
  },
  {
   "cell_type": "code",
   "execution_count": 14,
   "metadata": {},
   "outputs": [
    {
     "data": {
      "text/plain": [
       "array([3.03000000e-05, 4.00000000e-05, 6.30000000e-05, 6.39000000e-05,\n",
       "       7.00000000e-05, 7.47000000e-05, 8.00000000e-05, 1.00000000e-04,\n",
       "       1.20000000e-04, 1.30000000e-04, 1.40000000e-04, 1.50000000e-04,\n",
       "       1.70000000e-04, 1.80000000e-04, 1.90000000e-04, 2.00000000e-04,\n",
       "       2.10000000e-04, 2.13000000e-04, 2.17000000e-04, 2.20000000e-04,\n",
       "       2.28848000e-04, 2.30000000e-04, 2.40000000e-04, 2.60000000e-04,\n",
       "       2.70000000e-04, 2.80000000e-04, 2.84000000e-04, 2.90000000e-04,\n",
       "       3.00000000e-04, 3.10000000e-04, 3.20000000e-04, 3.26000000e-04,\n",
       "       3.50000000e-04, 3.60000000e-04, 3.60981000e-04, 3.70000000e-04,\n",
       "       3.80000000e-04, 3.90000000e-04, 4.00000000e-04, 4.07734000e-04,\n",
       "       4.10000000e-04, 4.30000000e-04, 4.40000000e-04, 4.50000000e-04,\n",
       "       4.56000000e-04, 4.70000000e-04, 4.75250000e-04, 4.80000000e-04,\n",
       "       4.90000000e-04, 4.98000000e-04, 5.10000000e-04, 5.12514000e-04,\n",
       "       5.40000000e-04, 5.50000000e-04, 5.70000000e-04, 6.00000000e-04,\n",
       "       6.10000000e-04, 6.30000000e-04, 6.40000000e-04, 6.53692000e-04,\n",
       "       6.60000000e-04, 6.80000000e-04, 6.97134000e-04, 7.00000000e-04,\n",
       "       7.04747000e-04, 7.19790000e-04, 7.32589000e-04, 7.36616000e-04,\n",
       "       7.40000000e-04, 7.70000000e-04, 7.80000000e-04, 7.95900000e-04,\n",
       "       7.97998000e-04, 8.20000000e-04, 8.23164000e-04, 8.31277000e-04,\n",
       "       8.34000000e-04, 8.40000000e-04, 8.50000000e-04, 8.54907000e-04,\n",
       "       8.59431000e-04, 8.60000000e-04, 8.67735000e-04, 8.70000000e-04,\n",
       "       8.80000000e-04, 8.90000000e-04, 8.99035000e-04, 9.00000000e-04,\n",
       "       9.06074000e-04, 9.13925000e-04, 9.17755000e-04, 9.20000000e-04,\n",
       "       9.50000000e-04, 9.62889000e-04, 9.90000000e-04, 1.00000000e-03,\n",
       "       1.02000000e-03, 1.03000000e-03, 1.06000000e-03, 1.11567600e-03,\n",
       "       1.13000000e-03, 1.15000000e-03, 1.16000000e-03, 1.17000000e-03,\n",
       "       1.20000000e-03, 1.20731200e-03, 1.21272200e-03, 1.23232500e-03,\n",
       "       1.24000000e-03, 1.24162800e-03, 1.28000000e-03, 1.29785400e-03,\n",
       "       1.30000000e-03, 1.32508900e-03, 1.32869200e-03, 1.33000000e-03,\n",
       "       1.35000000e-03, 1.36000000e-03, 1.37000000e-03, 1.42000000e-03,\n",
       "       1.44000000e-03, 1.47000000e-03, 1.53000000e-03, 1.54000000e-03,\n",
       "       1.60000000e-03, 1.70000000e-03, 1.78946700e-03, 1.80000000e-03,\n",
       "       1.86000000e-03, 1.88907700e-03, 1.90000000e-03, 1.91000000e-03,\n",
       "       1.94000000e-03, 2.00000000e-03, 2.01399500e-03, 2.05000000e-03,\n",
       "       2.10000000e-03, 2.20000000e-03, 2.30000000e-03, 2.31000000e-03,\n",
       "       2.34412300e-03, 2.40000000e-03, 2.43000000e-03, 2.45000000e-03,\n",
       "       2.56918300e-03, 2.60000000e-03, 2.80000000e-03, 2.87000000e-03,\n",
       "       3.05000000e-03, 3.07000000e-03, 3.15390600e-03, 3.25000000e-03,\n",
       "       3.34000000e-03, 3.50000000e-03, 3.60000000e-03, 3.67000000e-03,\n",
       "       3.73000000e-03, 3.90000000e-03, 4.00000000e-03, 4.14000000e-03,\n",
       "       4.23000000e-03, 4.35000000e-03, 4.36000000e-03, 4.68000000e-03,\n",
       "       4.80000000e-03, 5.01000000e-03, 5.03000000e-03, 5.33000000e-03,\n",
       "       5.80000000e-03, 5.90000000e-03, 6.13261400e-03, 6.30000000e-03,\n",
       "       6.30475900e-03, 6.59000000e-03, 6.80000000e-03, 7.78000000e-03,\n",
       "       8.60000000e-03, 8.80000000e-03, 9.50000000e-03, 1.00000000e-02,\n",
       "       1.10000000e-02, 1.14000000e-02, 1.30440110e-02, 1.38900000e-02,\n",
       "       1.48000000e-02, 1.70000000e-02, 2.30000000e-02, 2.80000000e-02,\n",
       "       2.99000000e-02, 3.30000000e-02, 3.50000000e-02, 3.60000000e-02,\n",
       "       4.16000000e-02, 4.80000000e-02, 5.32000000e-02, 5.62000000e-02,\n",
       "       5.70000000e-02, 6.20000000e-02, 6.60000000e-02, 6.62000000e-02,\n",
       "       7.00000000e-02, 8.90000000e-02, 1.00000000e-01, 1.02000000e-01,\n",
       "       1.06000000e-01, 1.14000000e-01, 1.19200000e-01, 1.21000000e-01,\n",
       "       1.22000000e-01, 1.29000000e-01, 1.31000000e-01, 1.34000000e-01,\n",
       "       1.36000000e-01, 1.41000000e-01, 1.42000000e-01, 1.50000000e-01,\n",
       "       1.54000000e-01, 1.55000000e-01, 1.58000000e-01, 1.62000000e-01,\n",
       "       1.67000000e-01, 1.71000000e-01, 1.71900000e-01, 1.73000000e-01,\n",
       "       1.75100000e-01, 1.79000000e-01, 1.90000000e-01, 1.93000000e-01,\n",
       "       1.98000000e-01, 2.00000000e-01, 2.04900000e-01, 2.10000000e-01,\n",
       "       2.10600000e-01, 2.12000000e-01, 2.17000000e-01, 2.18000000e-01,\n",
       "       2.30000000e-01, 2.36400000e-01, 2.39000000e-01, 2.41000000e-01,\n",
       "       2.49000000e-01, 2.53000000e-01, 2.57000000e-01, 2.64000000e-01,\n",
       "       2.69300000e-01, 2.70000000e-01, 2.84000000e-01, 3.02000000e-01,\n",
       "       3.11000000e-01, 3.32700000e-01, 3.40000000e-01, 3.48000000e-01,\n",
       "       3.54000000e-01, 3.80083104e-01, 3.90000000e-01, 4.22700000e-01,\n",
       "       4.35700000e-01, 4.37000000e-01, 4.71300000e-01, 5.98200000e-01,\n",
       "       6.10000000e-01])"
      ]
     },
     "execution_count": 14,
     "metadata": {},
     "output_type": "execute_result"
    }
   ],
   "source": [
    "# Label Encoder and Transform\n",
    "label_encoder = LabelEncoder()\n",
    "\n",
    "data = X.copy()\n",
    "\n",
    "label_encoder.fit(data['carbon_12_13'])\n",
    "label_encoder.transform(data.carbon_12_13)\n",
    "label_encoder.fit(data['silicon_29_28'])\n",
    "label_encoder.transform(data.silicon_29_28)\n",
    "label_encoder.fit(data['silicon_30_28'])\n",
    "label_encoder.transform(data.silicon_30_28)\n",
    "label_encoder.fit(data['nitrogen_14_15'])\n",
    "label_encoder.transform(data.nitrogen_14_15)\n",
    "label_encoder.fit(data['aluminum_26_27'])\n",
    "label_encoder.transform(data.aluminum_26_27)\n",
    "label_encoder.classes_\n"
   ]
  },
  {
   "cell_type": "markdown",
   "metadata": {},
   "source": [
    "## Create Train Test Split"
   ]
  },
  {
   "cell_type": "code",
   "execution_count": 15,
   "metadata": {},
   "outputs": [],
   "source": [
    "# Separate data into train and test buckets\n",
    "data_train, data_test, y_train, y_test = train_test_split(X, y, random_state=1, stratify=y)"
   ]
  },
  {
   "cell_type": "markdown",
   "metadata": {},
   "source": [
    "## Scale the data using MinMaxScalar"
   ]
  },
  {
   "cell_type": "code",
   "execution_count": 16,
   "metadata": {},
   "outputs": [],
   "source": [
    "# MinMaxScalar\n",
    "data_minmax = MinMaxScaler().fit(data_train)\n",
    "\n",
    "data_train_minmax = data_minmax.transform(data_train)\n",
    "data_test_minmax = data_minmax.transform(data_test)\n"
   ]
  },
  {
   "cell_type": "markdown",
   "metadata": {},
   "source": [
    "## Find the best k value"
   ]
  },
  {
   "cell_type": "code",
   "execution_count": 17,
   "metadata": {},
   "outputs": [
    {
     "name": "stdout",
     "output_type": "stream",
     "text": [
      "k: 1, Train/Test Score: 1.000/0.854\n",
      "k: 3, Train/Test Score: 0.874/0.829\n",
      "k: 5, Train/Test Score: 0.854/0.780\n",
      "k: 7, Train/Test Score: 0.817/0.780\n",
      "k: 9, Train/Test Score: 0.801/0.768\n",
      "k: 11, Train/Test Score: 0.785/0.768\n",
      "k: 13, Train/Test Score: 0.789/0.756\n",
      "k: 15, Train/Test Score: 0.780/0.756\n",
      "k: 17, Train/Test Score: 0.785/0.756\n",
      "k: 19, Train/Test Score: 0.776/0.756\n"
     ]
    }
   ],
   "source": [
    "# Loop through different k values to see which has the highest accuracy\n",
    "# Note: We only use odd numbers because we don't want any ties\n",
    "train_scores = []\n",
    "test_scores = []\n",
    "for k in range(1, 20, 2):\n",
    "    knn = KNeighborsClassifier(n_neighbors=k)\n",
    "    #knn.fit(X_train_minmax, y_train_minmax)\n",
    "    #train_score = knn.score(X_train_minmax, y_train_minmax)\n",
    "    #test_score = knn.score(X_test_minmax, y_test_minmax)\n",
    "    knn.fit(data_train_minmax, y_train)\n",
    "    train_score = knn.score(data_train_minmax, y_train)\n",
    "    test_score = knn.score(data_test_minmax, y_test)\n",
    "    train_scores.append(train_score)\n",
    "    test_scores.append(test_score)\n",
    "    print(f\"k: {k}, Train/Test Score: {train_score:.3f}/{test_score:.3f}\")"
   ]
  },
  {
   "cell_type": "markdown",
   "metadata": {},
   "source": [
    "## Plot the train and test scores"
   ]
  },
  {
   "cell_type": "code",
   "execution_count": 18,
   "metadata": {},
   "outputs": [
    {
     "data": {
      "image/png": "[encoded data removed]",
      "text/plain": [
       "<Figure size 432x288 with 1 Axes>"
      ]
     },
     "metadata": {
      "needs_background": "light"
     },
     "output_type": "display_data"
    }
   ],
   "source": [
    "# Plot train scores in blue with marker 'o' and test scores in orange with marker 'x'\n",
    "plt.plot(range(1, 20, 2), train_scores, marker='o')\n",
    "plt.plot(range(1, 20, 2), test_scores, marker=\"x\")\n",
    "plt.xlabel(\"k neighbors\")\n",
    "plt.ylabel(\"Testing accuracy score\")\n",
    "plt.show()"
   ]
  },
  {
   "cell_type": "markdown",
   "metadata": {},
   "source": [
    "## Train the model and return the test score"
   ]
  },
  {
   "cell_type": "code",
   "execution_count": 19,
   "metadata": {},
   "outputs": [
    {
     "name": "stdout",
     "output_type": "stream",
     "text": [
      "k=1 Test Acc: 0.854\n"
     ]
    }
   ],
   "source": [
    "knn = KNeighborsClassifier(n_neighbors=1)\n",
    "knn.fit(data_train_minmax, y_train)\n",
    "print('k=1 Test Acc: %.3f' % knn.score(data_test_minmax, y_test))"
   ]
  },
  {
   "cell_type": "markdown",
   "metadata": {},
   "source": [
    "## Save the model"
   ]
  },
  {
   "cell_type": "code",
   "execution_count": 20,
   "metadata": {},
   "outputs": [
    {
     "data": {
      "text/plain": [
       "['kNN_C_Si_N_Al.sav']"
      ]
     },
     "execution_count": 20,
     "metadata": {},
     "output_type": "execute_result"
    }
   ],
   "source": [
    "# Save model to file\n",
    "filename = 'kNN_C_Si_N_Al.sav'\n",
    "joblib.dump(knn, filename)"
   ]
  },
  {
   "cell_type": "markdown",
   "metadata": {},
   "source": [
    "## Summary:"
   ]
  },
  {
   "cell_type": "markdown",
   "metadata": {},
   "source": [
    "### k Nearest Neighbor carbon, silicon, nitrogen, and aluminum (k=13): 85.4%"
   ]
  },
  {
   "cell_type": "code",
   "execution_count": null,
   "metadata": {},
   "outputs": [],
   "source": []
  }
 ],
 "metadata": {
  "kernelspec": {
   "display_name": "Python 3",
   "language": "python",
   "name": "python3"
  },
  "language_info": {
   "codemirror_mode": {
    "name": "ipython",
    "version": 3
   },
   "file_extension": ".py",
   "mimetype": "text/x-python",
   "name": "python",
   "nbconvert_exporter": "python",
   "pygments_lexer": "ipython3",
   "version": "3.7.3"
  }
 },
 "nbformat": 4,
 "nbformat_minor": 2
}
