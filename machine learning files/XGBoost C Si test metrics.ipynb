{
 "cells": [
  {
   "cell_type": "markdown",
   "metadata": {},
   "source": [
    "# XGBoost with carbon and silicon isotopes TEST NOTEBOOK"
   ]
  },
  {
   "cell_type": "code",
   "execution_count": 1,
   "metadata": {},
   "outputs": [
    {
     "name": "stderr",
     "output_type": "stream",
     "text": [
      "/anaconda3/lib/python3.7/site-packages/dask/config.py:168: YAMLLoadWarning: calling yaml.load() without Loader=... is deprecated, as the default Loader is unsafe. Please read https://msg.pyyaml.org/load for full details.\n",
      "  data = yaml.load(f.read()) or {}\n",
      "/anaconda3/lib/python3.7/site-packages/distributed/config.py:20: YAMLLoadWarning: calling yaml.load() without Loader=... is deprecated, as the default Loader is unsafe. Please read https://msg.pyyaml.org/load for full details.\n",
      "  defaults = yaml.load(f)\n"
     ]
    }
   ],
   "source": [
    "# Imports\n",
    "import joblib\n",
    "import pandas as pd\n",
    "\n",
    "from numpy import loadtxt\n",
    "from sklearn.metrics import accuracy_score\n",
    "from sklearn.model_selection import train_test_split\n",
    "from xgboost import XGBClassifier"
   ]
  },
  {
   "cell_type": "markdown",
   "metadata": {},
   "source": [
    "## Read the CSV"
   ]
  },
  {
   "cell_type": "code",
   "execution_count": 2,
   "metadata": {},
   "outputs": [
    {
     "data": {
      "text/html": [
       "<div>\n",
       "<style scoped>\n",
       "    .dataframe tbody tr th:only-of-type {\n",
       "        vertical-align: middle;\n",
       "    }\n",
       "\n",
       "    .dataframe tbody tr th {\n",
       "        vertical-align: top;\n",
       "    }\n",
       "\n",
       "    .dataframe thead th {\n",
       "        text-align: right;\n",
       "    }\n",
       "</style>\n",
       "<table border=\"1\" class=\"dataframe\">\n",
       "  <thead>\n",
       "    <tr style=\"text-align: right;\">\n",
       "      <th></th>\n",
       "      <th>Type</th>\n",
       "      <th>carbon_isotopes</th>\n",
       "      <th>silicon_29_28</th>\n",
       "      <th>silicon_30_28</th>\n",
       "    </tr>\n",
       "  </thead>\n",
       "  <tbody>\n",
       "    <tr>\n",
       "      <th>0</th>\n",
       "      <td>C</td>\n",
       "      <td>1.300</td>\n",
       "      <td>313.0</td>\n",
       "      <td>377.0</td>\n",
       "    </tr>\n",
       "    <tr>\n",
       "      <th>1</th>\n",
       "      <td>AB</td>\n",
       "      <td>1.420</td>\n",
       "      <td>-59.0</td>\n",
       "      <td>19.0</td>\n",
       "    </tr>\n",
       "    <tr>\n",
       "      <th>2</th>\n",
       "      <td>AB</td>\n",
       "      <td>1.854</td>\n",
       "      <td>8.0</td>\n",
       "      <td>56.0</td>\n",
       "    </tr>\n",
       "    <tr>\n",
       "      <th>3</th>\n",
       "      <td>AB</td>\n",
       "      <td>1.880</td>\n",
       "      <td>20.0</td>\n",
       "      <td>33.0</td>\n",
       "    </tr>\n",
       "    <tr>\n",
       "      <th>4</th>\n",
       "      <td>AB</td>\n",
       "      <td>1.910</td>\n",
       "      <td>9.0</td>\n",
       "      <td>103.0</td>\n",
       "    </tr>\n",
       "  </tbody>\n",
       "</table>\n",
       "</div>"
      ],
      "text/plain": [
       "  Type  carbon_isotopes  silicon_29_28  silicon_30_28\n",
       "0    C            1.300          313.0          377.0\n",
       "1   AB            1.420          -59.0           19.0\n",
       "2   AB            1.854            8.0           56.0\n",
       "3   AB            1.880           20.0           33.0\n",
       "4   AB            1.910            9.0          103.0"
      ]
     },
     "execution_count": 2,
     "metadata": {},
     "output_type": "execute_result"
    }
   ],
   "source": [
    "# load data\n",
    "#dataset = loadtxt('presolargrains_C_only.csv', delimiter=\",\")\n",
    "# Read csv file\n",
    "C_Si = pd.read_csv('presolargrains_C_Si2.csv')\n",
    "C_Si.head()"
   ]
  },
  {
   "cell_type": "markdown",
   "metadata": {},
   "source": [
    "## Train Test Split"
   ]
  },
  {
   "cell_type": "code",
   "execution_count": 3,
   "metadata": {},
   "outputs": [
    {
     "name": "stdout",
     "output_type": "stream",
     "text": [
      "       carbon_isotopes  silicon_29_28  silicon_30_28\n",
      "0                1.300         313.00         377.00\n",
      "1                1.420         -59.00          19.00\n",
      "2                1.854           8.00          56.00\n",
      "3                1.880          20.00          33.00\n",
      "4                1.910           9.00         103.00\n",
      "5                1.940           9.00          31.00\n",
      "6                1.960          21.00          31.00\n",
      "7                2.040         -11.00          17.00\n",
      "8                2.070          20.00          32.00\n",
      "9                2.098         -37.00         -39.00\n",
      "10               2.150          85.00          71.00\n",
      "11               2.192           4.00          55.00\n",
      "12               2.200         124.00         191.00\n",
      "13               2.220          17.00          39.00\n",
      "14               2.220           0.00          40.00\n",
      "15               2.300         -44.30          49.40\n",
      "16               2.290          57.00         164.00\n",
      "17               2.310           2.00          28.00\n",
      "18               2.328          37.00          89.00\n",
      "19               2.340          -3.00           5.00\n",
      "20               2.350          64.00          29.00\n",
      "21               2.350          79.00          75.00\n",
      "22               2.360         -28.00           7.00\n",
      "23               2.370         -32.51         -19.50\n",
      "24               2.370          23.00          29.00\n",
      "25               2.410         -41.00          -5.00\n",
      "26               2.450          45.00          47.00\n",
      "27               2.460         -20.00          -3.00\n",
      "28               2.500          49.00          70.40\n",
      "29               2.510         -49.00         -43.00\n",
      "...                ...            ...            ...\n",
      "14393         1272.000        -456.00        -496.00\n",
      "14394         1299.530        -335.00        -647.14\n",
      "14395         1357.410        -334.50        -461.88\n",
      "14396         1413.000        -353.00        -496.00\n",
      "14397         1453.100        -303.00        -438.00\n",
      "14398         1510.100        -480.00        -363.00\n",
      "14399         1528.000        -450.00        -348.00\n",
      "14400         1549.520        -381.00        -589.00\n",
      "14401         1581.000        -684.00        -490.00\n",
      "14402         1621.000        -476.00        -519.00\n",
      "14403         1693.890        -588.00        -605.00\n",
      "14404         1721.000        -404.00        -508.00\n",
      "14405         1848.000        -540.00        -308.00\n",
      "14406         1877.000        -215.00        -530.00\n",
      "14407         1980.800        -331.70        -463.00\n",
      "14408         2224.000        -350.00        -691.00\n",
      "14409         2234.300        -345.00        -668.00\n",
      "14410         2377.190        -555.00        -694.00\n",
      "14411         2509.690        -337.00        -582.00\n",
      "14412         2525.000        -363.00        -529.00\n",
      "14413         2730.000        -645.00        -612.00\n",
      "14414         2807.000        -578.00        -468.00\n",
      "14415         2882.400        -366.00        -705.00\n",
      "14416         3101.020        -521.00        -467.00\n",
      "14417         3290.100        1608.00        1283.00\n",
      "14418         3993.460        -355.00        -557.00\n",
      "14419         4250.000        -173.00        -338.00\n",
      "14420         6227.000        -441.00        -430.00\n",
      "14421         6793.000        -286.00        -630.00\n",
      "14422         9455.100        -569.00        -647.00\n",
      "\n",
      "[14423 rows x 3 columns]\n"
     ]
    }
   ],
   "source": [
    "# split data into X and y\n",
    "X = C_Si.loc[::1,'carbon_12_13':'silicon_30_28']\n",
    "y = C_Si['Type']\n",
    "print(X)"
   ]
  },
  {
   "cell_type": "code",
   "execution_count": 9,
   "metadata": {},
   "outputs": [],
   "source": [
    "# Split data into train and test sets\n",
    "X_train, X_test, y_train, y_test = train_test_split(X, y, random_state=1, stratify=y)\n",
    "# For cross validation\n",
    "#train, validation = train_test_split(data, test_size=0.20, random_state = 1, stratify=y)\n"
   ]
  },
  {
   "cell_type": "code",
   "execution_count": 15,
   "metadata": {},
   "outputs": [
    {
     "name": "stdout",
     "output_type": "stream",
     "text": [
      "Train: [    0     1     2 ... 14419 14420 14421] Validation: [    4     5     6 ... 14411 14413 14422]\n",
      "Train: [    0     1     2 ... 14420 14421 14422] Validation: [   12    16    21 ... 14405 14408 14417]\n",
      "Train: [    0     2     4 ... 14420 14421 14422] Validation: [    1     3    10 ... 14414 14416 14419]\n",
      "Train: [    0     1     2 ... 14419 14420 14422] Validation: [    8     9    13 ... 14412 14418 14421]\n",
      "Train: [    1     3     4 ... 14419 14421 14422] Validation: [    0     2    15 ... 14404 14415 14420]\n",
      "Train: [    0     1     2 ... 14420 14421 14422] Validation: [    9    14    34 ... 14386 14391 14396]\n",
      "Train: [    3     4     5 ... 14420 14421 14422] Validation: [    0     1     2 ... 14411 14414 14416]\n",
      "Train: [    0     1     2 ... 14416 14419 14421] Validation: [    4    15    16 ... 14418 14420 14422]\n",
      "Train: [    0     1     2 ... 14420 14421 14422] Validation: [    3     6     7 ... 14398 14401 14406]\n",
      "Train: [    0     1     2 ... 14418 14420 14422] Validation: [    5     8    10 ... 14413 14419 14421]\n",
      "Train: [    0     1     2 ... 14420 14421 14422] Validation: [   10    17    26 ... 14400 14410 14419]\n",
      "Train: [    0     1     2 ... 14419 14420 14422] Validation: [    3     8    12 ... 14402 14418 14421]\n",
      "Train: [    2     3     6 ... 14419 14420 14421] Validation: [    0     1     4 ... 14414 14417 14422]\n",
      "Train: [    0     1     3 ... 14420 14421 14422] Validation: [    2     6    18 ... 14411 14415 14416]\n",
      "Train: [    0     1     2 ... 14419 14421 14422] Validation: [    7     9    14 ... 14412 14413 14420]\n",
      "Train: [    0     1     2 ... 14418 14420 14422] Validation: [   14    20    28 ... 14397 14419 14421]\n",
      "Train: [    0     1     2 ... 14419 14421 14422] Validation: [   10    15    24 ... 14413 14417 14420]\n",
      "Train: [    0     2     3 ... 14419 14420 14421] Validation: [    1     5     6 ... 14414 14418 14422]\n",
      "Train: [    0     1     2 ... 14420 14421 14422] Validation: [    3     4    12 ... 14410 14412 14415]\n",
      "Train: [    1     3     4 ... 14420 14421 14422] Validation: [    0     2    11 ... 14406 14411 14416]\n",
      "Train: [    0     1     2 ... 14420 14421 14422] Validation: [    4    15    26 ... 14399 14404 14416]\n",
      "Train: [    1     2     3 ... 14420 14421 14422] Validation: [    0    16    17 ... 14410 14411 14415]\n",
      "Train: [    0     1     2 ... 14417 14419 14422] Validation: [    7    14    18 ... 14418 14420 14421]\n",
      "Train: [    0     2     3 ... 14420 14421 14422] Validation: [    1    11    12 ... 14414 14417 14419]\n",
      "Train: [    0     1     4 ... 14419 14420 14421] Validation: [    2     3     5 ... 14403 14405 14422]\n",
      "Train: [    0     1     2 ... 14419 14420 14421] Validation: [    5    11    12 ... 14414 14415 14422]\n",
      "Train: [    0     1     4 ... 14420 14421 14422] Validation: [    2     3    19 ... 14403 14413 14419]\n",
      "Train: [    1     2     3 ... 14420 14421 14422] Validation: [    0     4     6 ... 14409 14410 14411]\n",
      "Train: [    0     2     3 ... 14420 14421 14422] Validation: [    1     9    15 ... 14404 14405 14417]\n",
      "Train: [    0     1     2 ... 14417 14419 14422] Validation: [    7    10    14 ... 14418 14420 14421]\n",
      "Train: [    0     1     2 ... 14420 14421 14422] Validation: [    4     6     8 ... 14412 14413 14414]\n",
      "Train: [    0     1     2 ... 14419 14420 14421] Validation: [    9    21    22 ... 14410 14415 14422]\n",
      "Train: [    0     1     2 ... 14419 14421 14422] Validation: [    3     5     7 ... 14416 14417 14420]\n",
      "Train: [    2     3     4 ... 14420 14421 14422] Validation: [    0     1    19 ... 14411 14418 14419]\n",
      "Train: [    0     1     3 ... 14419 14420 14422] Validation: [    2    10    12 ... 14405 14408 14421]\n",
      "Train: [    1     2     3 ... 14418 14419 14421] Validation: [    0     5     7 ... 14416 14420 14422]\n",
      "Train: [    0     2     3 ... 14420 14421 14422] Validation: [    1    11    18 ... 14403 14406 14414]\n",
      "Train: [    0     1     2 ... 14420 14421 14422] Validation: [    3     9    24 ... 14399 14417 14418]\n",
      "Train: [    0     1     3 ... 14419 14420 14422] Validation: [    2     4     8 ... 14412 14415 14421]\n",
      "Train: [    0     1     2 ... 14420 14421 14422] Validation: [    6    10    13 ... 14388 14398 14419]\n",
      "Train: [    0     1     2 ... 14420 14421 14422] Validation: [   11    14    17 ... 14389 14402 14405]\n",
      "Train: [    0     1     2 ... 14419 14420 14421] Validation: [    4     8    19 ... 14417 14418 14422]\n",
      "Train: [    1     2     3 ... 14420 14421 14422] Validation: [    0     6     7 ... 14396 14397 14404]\n",
      "Train: [    0     4     5 ... 14418 14421 14422] Validation: [    1     2     3 ... 14414 14419 14420]\n",
      "Train: [    0     1     2 ... 14419 14420 14422] Validation: [    5    20    28 ... 14412 14415 14421]\n",
      "Train: [    0     2     4 ... 14420 14421 14422] Validation: [    1     3     6 ... 14409 14410 14413]\n",
      "Train: [    0     1     3 ... 14418 14419 14420] Validation: [    2     5     8 ... 14415 14421 14422]\n",
      "Train: [    0     1     2 ... 14416 14421 14422] Validation: [    4    10    12 ... 14418 14419 14420]\n",
      "Train: [    1     2     3 ... 14420 14421 14422] Validation: [    0     7    11 ... 14395 14397 14399]\n",
      "Train: [    0     1     2 ... 14420 14421 14422] Validation: [   17    32    33 ... 14411 14414 14416]\n"
     ]
    }
   ],
   "source": [
    "# Attempting repeatedkfold\n",
    "from sklearn.model_selection import RepeatedKFold \n",
    "kf = RepeatedKFold(n_splits=5, n_repeats=10, random_state=1) \n",
    "\n",
    "for train_index, test_index in kf.split(X):\n",
    "      print(\"Train:\", train_index, \"Validation:\",test_index)\n",
    "      #X_train, X_test = X[train_index], X[test_index] # these 2 lines produce errors\n",
    "      #y_train, y_test = y[train_index], y[test_index] # these 2 lines produce errors\n",
    "\n",
    "    # Create and print dataframe with Train and Validation\n",
    "      #pd.DataFrame({\"Train:\" train_index, \"Validation:\" test_index}).reset_index(drop=True)        "
   ]
  },
  {
   "cell_type": "markdown",
   "metadata": {},
   "source": [
    "## Fit model"
   ]
  },
  {
   "cell_type": "code",
   "execution_count": null,
   "metadata": {},
   "outputs": [],
   "source": [
    "# fit model\n",
    "model = XGBClassifier()\n",
    "model.fit(X_train, y_train)"
   ]
  },
  {
   "cell_type": "markdown",
   "metadata": {},
   "source": [
    "## Print model"
   ]
  },
  {
   "cell_type": "code",
   "execution_count": null,
   "metadata": {},
   "outputs": [],
   "source": [
    "# Print model\n",
    "print(model)"
   ]
  },
  {
   "cell_type": "markdown",
   "metadata": {},
   "source": [
    "## Compare predictions to actual"
   ]
  },
  {
   "cell_type": "code",
   "execution_count": null,
   "metadata": {},
   "outputs": [],
   "source": [
    "# Make predictions for test data\n",
    "y_pred = model.predict(X_test)\n",
    "# Create and print dataframe with predicted and actual types\n",
    "pd.DataFrame({\"Prediction\": y_pred, \"Actual\": y_test}).reset_index(drop=True)"
   ]
  },
  {
   "cell_type": "markdown",
   "metadata": {},
   "source": [
    "## Report Accuracy"
   ]
  },
  {
   "cell_type": "code",
   "execution_count": null,
   "metadata": {},
   "outputs": [],
   "source": [
    "# Evaluate predictions\n",
    "accuracy = accuracy_score(y_test, y_pred)\n",
    "print(\"Accuracy: %.2f%%\" % (accuracy * 100.0))"
   ]
  },
  {
   "cell_type": "markdown",
   "metadata": {},
   "source": [
    "## Save the model"
   ]
  },
  {
   "cell_type": "code",
   "execution_count": null,
   "metadata": {},
   "outputs": [],
   "source": [
    "# Save this model. \n",
    "#filename = 'XGBoost_C_Si.sav'\n",
    "#joblib.dump(model, filename)"
   ]
  },
  {
   "cell_type": "markdown",
   "metadata": {},
   "source": [
    "## Summary: "
   ]
  },
  {
   "cell_type": "markdown",
   "metadata": {},
   "source": [
    "### XGBoost with carbon and silicon isotopes: 96.8%"
   ]
  },
  {
   "cell_type": "code",
   "execution_count": null,
   "metadata": {},
   "outputs": [],
   "source": []
  }
 ],
 "metadata": {
  "kernelspec": {
   "display_name": "Python 3",
   "language": "python",
   "name": "python3"
  },
  "language_info": {
   "codemirror_mode": {
    "name": "ipython",
    "version": 3
   },
   "file_extension": ".py",
   "mimetype": "text/x-python",
   "name": "python",
   "nbconvert_exporter": "python",
   "pygments_lexer": "ipython3",
   "version": "3.7.3"
  }
 },
 "nbformat": 4,
 "nbformat_minor": 2
}
