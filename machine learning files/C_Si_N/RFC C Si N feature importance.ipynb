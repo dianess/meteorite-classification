{
 "cells": [
  {
   "cell_type": "markdown",
   "metadata": {},
   "source": [
    "# Random Forest Classifier carbon, silicon, and nitrogen isotopes\n",
    "## Includes feature importances"
   ]
  },
  {
   "cell_type": "code",
   "execution_count": 2,
   "metadata": {},
   "outputs": [],
   "source": [
    "#Imports\n",
    "import joblib\n",
    "import pandas as pd\n",
    "\n",
    "from sklearn import tree\n",
    "from sklearn.ensemble import RandomForestClassifier\n",
    "from sklearn.model_selection import GridSearchCV\n",
    "from sklearn.model_selection import train_test_split\n",
    "from sklearn.preprocessing import LabelEncoder, MinMaxScaler\n"
   ]
  },
  {
   "cell_type": "code",
   "execution_count": 3,
   "metadata": {},
   "outputs": [
    {
     "data": {
      "text/html": [
       "<div>\n",
       "<style scoped>\n",
       "    .dataframe tbody tr th:only-of-type {\n",
       "        vertical-align: middle;\n",
       "    }\n",
       "\n",
       "    .dataframe tbody tr th {\n",
       "        vertical-align: top;\n",
       "    }\n",
       "\n",
       "    .dataframe thead th {\n",
       "        text-align: right;\n",
       "    }\n",
       "</style>\n",
       "<table border=\"1\" class=\"dataframe\">\n",
       "  <thead>\n",
       "    <tr style=\"text-align: right;\">\n",
       "      <th></th>\n",
       "      <th>Type</th>\n",
       "      <th>carbon_12_13</th>\n",
       "      <th>nitrogen_14_15</th>\n",
       "      <th>silicon_29_28</th>\n",
       "      <th>silicon_30_28</th>\n",
       "    </tr>\n",
       "  </thead>\n",
       "  <tbody>\n",
       "    <tr>\n",
       "      <th>0</th>\n",
       "      <td>X</td>\n",
       "      <td>74.30</td>\n",
       "      <td>207.4</td>\n",
       "      <td>-685.0</td>\n",
       "      <td>-520.0</td>\n",
       "    </tr>\n",
       "    <tr>\n",
       "      <th>1</th>\n",
       "      <td>X</td>\n",
       "      <td>1581.00</td>\n",
       "      <td>116.0</td>\n",
       "      <td>-684.0</td>\n",
       "      <td>-490.0</td>\n",
       "    </tr>\n",
       "    <tr>\n",
       "      <th>2</th>\n",
       "      <td>X</td>\n",
       "      <td>234.75</td>\n",
       "      <td>187.2</td>\n",
       "      <td>-683.0</td>\n",
       "      <td>-501.0</td>\n",
       "    </tr>\n",
       "    <tr>\n",
       "      <th>3</th>\n",
       "      <td>X</td>\n",
       "      <td>455.00</td>\n",
       "      <td>140.0</td>\n",
       "      <td>-662.0</td>\n",
       "      <td>-770.0</td>\n",
       "    </tr>\n",
       "    <tr>\n",
       "      <th>4</th>\n",
       "      <td>X</td>\n",
       "      <td>823.00</td>\n",
       "      <td>44.0</td>\n",
       "      <td>-658.0</td>\n",
       "      <td>-234.0</td>\n",
       "    </tr>\n",
       "  </tbody>\n",
       "</table>\n",
       "</div>"
      ],
      "text/plain": [
       "  Type  carbon_12_13  nitrogen_14_15  silicon_29_28  silicon_30_28\n",
       "0    X         74.30           207.4         -685.0         -520.0\n",
       "1    X       1581.00           116.0         -684.0         -490.0\n",
       "2    X        234.75           187.2         -683.0         -501.0\n",
       "3    X        455.00           140.0         -662.0         -770.0\n",
       "4    X        823.00            44.0         -658.0         -234.0"
      ]
     },
     "execution_count": 3,
     "metadata": {},
     "output_type": "execute_result"
    }
   ],
   "source": [
    "# Read csv file\n",
    "C_Si_N = pd.read_csv('presolargrains_C_Si_N.csv')\n",
    "C_Si_N.head()"
   ]
  },
  {
   "cell_type": "code",
   "execution_count": 4,
   "metadata": {},
   "outputs": [
    {
     "data": {
      "text/plain": [
       "('carbon_12_13', 'nitrogen_14_15', 'silicon_29_28', 'silicon_30_28')"
      ]
     },
     "execution_count": 4,
     "metadata": {},
     "output_type": "execute_result"
    }
   ],
   "source": [
    "df = pd.DataFrame(C_Si_N) \n",
    "features = (df['carbon_12_13'], df['nitrogen_14_15'], df['silicon_29_28'], df['silicon_30_28'])\n",
    "#features\n",
    "feature_names = ('carbon_12_13', 'nitrogen_14_15', 'silicon_29_28', 'silicon_30_28')\n",
    "feature_names"
   ]
  },
  {
   "cell_type": "code",
   "execution_count": 5,
   "metadata": {},
   "outputs": [
    {
     "data": {
      "text/html": [
       "<div>\n",
       "<style scoped>\n",
       "    .dataframe tbody tr th:only-of-type {\n",
       "        vertical-align: middle;\n",
       "    }\n",
       "\n",
       "    .dataframe tbody tr th {\n",
       "        vertical-align: top;\n",
       "    }\n",
       "\n",
       "    .dataframe thead th {\n",
       "        text-align: right;\n",
       "    }\n",
       "</style>\n",
       "<table border=\"1\" class=\"dataframe\">\n",
       "  <thead>\n",
       "    <tr style=\"text-align: right;\">\n",
       "      <th></th>\n",
       "      <th>carbon_12_13</th>\n",
       "      <th>nitrogen_14_15</th>\n",
       "      <th>silicon_29_28</th>\n",
       "      <th>silicon_30_28</th>\n",
       "    </tr>\n",
       "  </thead>\n",
       "  <tbody>\n",
       "    <tr>\n",
       "      <th>0</th>\n",
       "      <td>74.30</td>\n",
       "      <td>207.4</td>\n",
       "      <td>-685.0</td>\n",
       "      <td>-520.0</td>\n",
       "    </tr>\n",
       "    <tr>\n",
       "      <th>1</th>\n",
       "      <td>1581.00</td>\n",
       "      <td>116.0</td>\n",
       "      <td>-684.0</td>\n",
       "      <td>-490.0</td>\n",
       "    </tr>\n",
       "    <tr>\n",
       "      <th>2</th>\n",
       "      <td>234.75</td>\n",
       "      <td>187.2</td>\n",
       "      <td>-683.0</td>\n",
       "      <td>-501.0</td>\n",
       "    </tr>\n",
       "    <tr>\n",
       "      <th>3</th>\n",
       "      <td>455.00</td>\n",
       "      <td>140.0</td>\n",
       "      <td>-662.0</td>\n",
       "      <td>-770.0</td>\n",
       "    </tr>\n",
       "    <tr>\n",
       "      <th>4</th>\n",
       "      <td>823.00</td>\n",
       "      <td>44.0</td>\n",
       "      <td>-658.0</td>\n",
       "      <td>-234.0</td>\n",
       "    </tr>\n",
       "  </tbody>\n",
       "</table>\n",
       "</div>"
      ],
      "text/plain": [
       "   carbon_12_13  nitrogen_14_15  silicon_29_28  silicon_30_28\n",
       "0         74.30           207.4         -685.0         -520.0\n",
       "1       1581.00           116.0         -684.0         -490.0\n",
       "2        234.75           187.2         -683.0         -501.0\n",
       "3        455.00           140.0         -662.0         -770.0\n",
       "4        823.00            44.0         -658.0         -234.0"
      ]
     },
     "execution_count": 5,
     "metadata": {},
     "output_type": "execute_result"
    }
   ],
   "source": [
    "# Set up data and feature names; display dataframe dropping columns\n",
    "data = C_Si_N.drop(\"Type\", axis=1)\n",
    "feature_names2 = data.columns\n",
    "data.head()"
   ]
  },
  {
   "cell_type": "code",
   "execution_count": 6,
   "metadata": {},
   "outputs": [],
   "source": [
    "target = C_Si_N['Type']"
   ]
  },
  {
   "cell_type": "code",
   "execution_count": 7,
   "metadata": {},
   "outputs": [],
   "source": [
    "# Separate data into train and test buckets\n",
    "X_train, X_test, y_train, y_test = train_test_split(data, target, random_state=1)"
   ]
  },
  {
   "cell_type": "markdown",
   "metadata": {},
   "source": [
    "## Scale the data using MinMaxScalar"
   ]
  },
  {
   "cell_type": "code",
   "execution_count": 8,
   "metadata": {},
   "outputs": [],
   "source": [
    "X_scaler = MinMaxScaler().fit(X_train)\n",
    "X_train_scaled = X_scaler.transform(X_train)\n",
    "X_test_scaled = X_scaler.transform(X_test)"
   ]
  },
  {
   "cell_type": "markdown",
   "metadata": {},
   "source": [
    "## Train the model; run the test score"
   ]
  },
  {
   "cell_type": "code",
   "execution_count": 9,
   "metadata": {},
   "outputs": [
    {
     "data": {
      "text/plain": [
       "0.9693251533742331"
      ]
     },
     "execution_count": 9,
     "metadata": {},
     "output_type": "execute_result"
    }
   ],
   "source": [
    "# Random Forest Classifier\n",
    "rf = RandomForestClassifier(n_estimators=200)\n",
    "rf = rf.fit(X_train_scaled, y_train)\n",
    "rf.score(X_test_scaled, y_test)"
   ]
  },
  {
   "cell_type": "code",
   "execution_count": 43,
   "metadata": {},
   "outputs": [],
   "source": [
    "# Save fitted model to file\n",
    "#filename = 'RandomForestCls_C_Si_N.sav'\n",
    "#joblib.dump(rf, filename)"
   ]
  },
  {
   "cell_type": "markdown",
   "metadata": {},
   "source": [
    "## Summary:"
   ]
  },
  {
   "cell_type": "markdown",
   "metadata": {},
   "source": [
    "### Random Forest Classifier carbon, silicon, and nitrogen:  96.9%"
   ]
  },
  {
   "cell_type": "markdown",
   "metadata": {},
   "source": [
    "## Feature Importance"
   ]
  },
  {
   "cell_type": "markdown",
   "metadata": {},
   "source": [
    "Feature importance is calculated as the decrease in node impurity weighted by the probability of reaching that node. The node probability can be calculated by the number of samples that reach the node, divided by the total number of samples. The higher the value the more important the feature."
   ]
  },
  {
   "cell_type": "markdown",
   "metadata": {},
   "source": [
    "Code from: https://scikit-learn.org/stable/auto_examples/ensemble/plot_forest_importances.html"
   ]
  },
  {
   "cell_type": "code",
   "execution_count": 12,
   "metadata": {},
   "outputs": [
    {
     "name": "stdout",
     "output_type": "stream",
     "text": [
      "Automatically created module for IPython interactive environment\n",
      "Feature ranking:\n",
      "1. feature 0 (0.476237)\n",
      "2. feature 3 (0.239102)\n",
      "3. feature 2 (0.159831)\n",
      "4. feature 1 (0.124830)\n"
     ]
    },
    {
     "data": {
      "text/plain": [
       "<Figure size 640x480 with 1 Axes>"
      ]
     },
     "metadata": {},
     "output_type": "display_data"
    }
   ],
   "source": [
    "print(__doc__)\n",
    "\n",
    "import numpy as np\n",
    "import matplotlib.pyplot as plt\n",
    "\n",
    "\n",
    "importances = rf.feature_importances_\n",
    "indices = np.argsort(importances)[::-1]\n",
    "\n",
    "# Print the feature ranking\n",
    "print(\"Feature ranking:\")\n",
    "\n",
    "for f in range(4):\n",
    "    print(\"%d. feature %d (%f)\" % (f + 1, indices[f], importances[indices[f]]))\n",
    "\n",
    "# Plot the feature importances\n",
    "plt.figure()\n",
    "plt.title(\"Feature importances\")\n",
    "plt.bar(range(4), importances[indices],\n",
    "       color=\"r\", align=\"center\")\n",
    "plt.xticks(range(4), indices)\n",
    "plt.xlim([-1, 4])\n",
    "plt.show()"
   ]
  },
  {
   "cell_type": "code",
   "execution_count": 13,
   "metadata": {},
   "outputs": [
    {
     "name": "stdout",
     "output_type": "stream",
     "text": [
      "0         74.30\n",
      "1       1581.00\n",
      "2        234.75\n",
      "3        455.00\n",
      "4        823.00\n",
      "5        140.00\n",
      "6        199.30\n",
      "7        136.70\n",
      "8        145.16\n",
      "9        223.00\n",
      "10       169.60\n",
      "11      1693.89\n",
      "12      2807.00\n",
      "13      9455.10\n",
      "14       216.59\n",
      "15      2377.19\n",
      "16       148.00\n",
      "17       578.92\n",
      "18      1848.00\n",
      "19      1234.00\n",
      "20       121.10\n",
      "21      3101.02\n",
      "22       378.00\n",
      "23         6.48\n",
      "24      1510.10\n",
      "25      1621.00\n",
      "26       552.00\n",
      "27        95.00\n",
      "28       304.00\n",
      "29      1272.00\n",
      "         ...   \n",
      "1271      43.79\n",
      "1272      46.10\n",
      "1273      42.69\n",
      "1274      40.48\n",
      "1275      41.63\n",
      "1276      41.10\n",
      "1277      41.30\n",
      "1278      27.40\n",
      "1279      42.20\n",
      "1280      42.00\n",
      "1281       8.68\n",
      "1282      39.28\n",
      "1283      27.70\n",
      "1284      26.76\n",
      "1285      51.00\n",
      "1286       7.80\n",
      "1287      42.66\n",
      "1288       7.37\n",
      "1289     148.30\n",
      "1290       7.74\n",
      "1291      42.78\n",
      "1292       4.40\n",
      "1293      42.23\n",
      "1294      74.17\n",
      "1295     108.93\n",
      "1296     233.00\n",
      "1297     192.03\n",
      "1298     386.61\n",
      "1299    3290.10\n",
      "1300     844.00\n",
      "Name: carbon_12_13, Length: 1301, dtype: float64\n"
     ]
    }
   ],
   "source": [
    "print(features[0]) # confirms feature 0 is carbon"
   ]
  },
  {
   "cell_type": "code",
   "execution_count": 14,
   "metadata": {},
   "outputs": [
    {
     "name": "stdout",
     "output_type": "stream",
     "text": [
      "0        207.40\n",
      "1        116.00\n",
      "2        187.20\n",
      "3        140.00\n",
      "4         44.00\n",
      "5         97.00\n",
      "6         68.40\n",
      "7        116.30\n",
      "8        128.50\n",
      "9        102.00\n",
      "10       154.00\n",
      "11        63.20\n",
      "12        83.00\n",
      "13        28.00\n",
      "14       111.72\n",
      "15        18.50\n",
      "16       271.00\n",
      "17       148.16\n",
      "18         6.90\n",
      "19        21.00\n",
      "20       103.00\n",
      "21        28.20\n",
      "22        54.00\n",
      "23        15.77\n",
      "24        45.30\n",
      "25        13.00\n",
      "26        58.00\n",
      "27        52.00\n",
      "28       106.00\n",
      "29        96.50\n",
      "         ...   \n",
      "1271    2151.00\n",
      "1272    3367.00\n",
      "1273    1053.00\n",
      "1274     756.00\n",
      "1275    2109.00\n",
      "1276    2833.00\n",
      "1277    3597.00\n",
      "1278    1502.00\n",
      "1279     675.00\n",
      "1280    2068.00\n",
      "1281    1300.00\n",
      "1282    2049.00\n",
      "1283    4902.00\n",
      "1284     971.00\n",
      "1285     387.00\n",
      "1286    1293.00\n",
      "1287    1322.00\n",
      "1288    1696.55\n",
      "1289     220.00\n",
      "1290     446.00\n",
      "1291     684.00\n",
      "1292     305.00\n",
      "1293     231.71\n",
      "1294     332.61\n",
      "1295     147.00\n",
      "1296     120.00\n",
      "1297      58.40\n",
      "1298      43.00\n",
      "1299      31.50\n",
      "1300     213.00\n",
      "Name: nitrogen_14_15, Length: 1301, dtype: float64\n"
     ]
    }
   ],
   "source": [
    "print(features[1]) # confirms feature 1 is nitrogen"
   ]
  },
  {
   "cell_type": "code",
   "execution_count": 15,
   "metadata": {},
   "outputs": [
    {
     "name": "stdout",
     "output_type": "stream",
     "text": [
      "0       -685.00\n",
      "1       -684.00\n",
      "2       -683.00\n",
      "3       -662.00\n",
      "4       -658.00\n",
      "5       -653.00\n",
      "6       -610.00\n",
      "7       -606.00\n",
      "8       -601.00\n",
      "9       -600.00\n",
      "10      -598.00\n",
      "11      -588.00\n",
      "12      -578.00\n",
      "13      -569.00\n",
      "14      -556.53\n",
      "15      -555.00\n",
      "16      -552.00\n",
      "17      -551.00\n",
      "18      -540.00\n",
      "19      -534.00\n",
      "20      -531.00\n",
      "21      -521.00\n",
      "22      -521.00\n",
      "23      -489.00\n",
      "24      -480.00\n",
      "25      -476.00\n",
      "26      -473.30\n",
      "27      -469.00\n",
      "28      -459.00\n",
      "29      -456.00\n",
      "         ...   \n",
      "1271     160.00\n",
      "1272     162.30\n",
      "1273     164.00\n",
      "1274     165.00\n",
      "1275     165.00\n",
      "1276     166.90\n",
      "1277     168.30\n",
      "1278     169.80\n",
      "1279     170.90\n",
      "1280     171.00\n",
      "1281     174.00\n",
      "1282     174.00\n",
      "1283     175.50\n",
      "1284     179.00\n",
      "1285     187.00\n",
      "1286     188.60\n",
      "1287     190.00\n",
      "1288     192.32\n",
      "1289     200.00\n",
      "1290     201.00\n",
      "1291     203.00\n",
      "1292     380.00\n",
      "1293     422.00\n",
      "1294     577.00\n",
      "1295    1082.00\n",
      "1296    1280.00\n",
      "1297    1345.00\n",
      "1298    1362.00\n",
      "1299    1608.00\n",
      "1300    2677.00\n",
      "Name: silicon_29_28, Length: 1301, dtype: float64\n"
     ]
    }
   ],
   "source": [
    "print(features[2]) # confirms feature 2 is silicon_29_28"
   ]
  },
  {
   "cell_type": "code",
   "execution_count": null,
   "metadata": {},
   "outputs": [],
   "source": []
  }
 ],
 "metadata": {
  "kernelspec": {
   "display_name": "Python 3",
   "language": "python",
   "name": "python3"
  },
  "language_info": {
   "codemirror_mode": {
    "name": "ipython",
    "version": 3
   },
   "file_extension": ".py",
   "mimetype": "text/x-python",
   "name": "python",
   "nbconvert_exporter": "python",
   "pygments_lexer": "ipython3",
   "version": "3.7.3"
  }
 },
 "nbformat": 4,
 "nbformat_minor": 2
}
