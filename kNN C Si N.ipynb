{
 "cells": [
  {
   "cell_type": "markdown",
   "metadata": {},
   "source": [
    "# kNN: k Nearest Neighbor for carbon, silicon, and nitrogen isotopes"
   ]
  },
  {
   "cell_type": "code",
   "execution_count": 1,
   "metadata": {},
   "outputs": [],
   "source": [
    "# Imports\n",
    "import warnings\n",
    "warnings.simplefilter('ignore')\n",
    "\n",
    "# %matplotlib inline\n",
    "import joblib\n",
    "import matplotlib.pyplot as plt\n",
    "import numpy as np\n",
    "import pandas as pd\n",
    "\n",
    "from sklearn import preprocessing\n",
    "from sklearn import utils\n",
    "from sklearn.model_selection import train_test_split\n",
    "from sklearn.neighbors import KNeighborsClassifier\n",
    "from sklearn.preprocessing import LabelEncoder\n",
    "from sklearn.preprocessing import MinMaxScaler"
   ]
  },
  {
   "cell_type": "markdown",
   "metadata": {},
   "source": [
    "## Read the CSV file"
   ]
  },
  {
   "cell_type": "code",
   "execution_count": 2,
   "metadata": {},
   "outputs": [
    {
     "data": {
      "text/html": [
       "<div>\n",
       "<style scoped>\n",
       "    .dataframe tbody tr th:only-of-type {\n",
       "        vertical-align: middle;\n",
       "    }\n",
       "\n",
       "    .dataframe tbody tr th {\n",
       "        vertical-align: top;\n",
       "    }\n",
       "\n",
       "    .dataframe thead th {\n",
       "        text-align: right;\n",
       "    }\n",
       "</style>\n",
       "<table border=\"1\" class=\"dataframe\">\n",
       "  <thead>\n",
       "    <tr style=\"text-align: right;\">\n",
       "      <th></th>\n",
       "      <th>Type</th>\n",
       "      <th>carbon_12_13</th>\n",
       "      <th>nitrogen_14_15</th>\n",
       "      <th>silicon_29_28</th>\n",
       "      <th>silicon_30_28</th>\n",
       "    </tr>\n",
       "  </thead>\n",
       "  <tbody>\n",
       "    <tr>\n",
       "      <th>0</th>\n",
       "      <td>X</td>\n",
       "      <td>74.30</td>\n",
       "      <td>207.4</td>\n",
       "      <td>-685.0</td>\n",
       "      <td>-520.0</td>\n",
       "    </tr>\n",
       "    <tr>\n",
       "      <th>1</th>\n",
       "      <td>X</td>\n",
       "      <td>1581.00</td>\n",
       "      <td>116.0</td>\n",
       "      <td>-684.0</td>\n",
       "      <td>-490.0</td>\n",
       "    </tr>\n",
       "    <tr>\n",
       "      <th>2</th>\n",
       "      <td>X</td>\n",
       "      <td>234.75</td>\n",
       "      <td>187.2</td>\n",
       "      <td>-683.0</td>\n",
       "      <td>-501.0</td>\n",
       "    </tr>\n",
       "    <tr>\n",
       "      <th>3</th>\n",
       "      <td>X</td>\n",
       "      <td>455.00</td>\n",
       "      <td>140.0</td>\n",
       "      <td>-662.0</td>\n",
       "      <td>-770.0</td>\n",
       "    </tr>\n",
       "    <tr>\n",
       "      <th>4</th>\n",
       "      <td>X</td>\n",
       "      <td>823.00</td>\n",
       "      <td>44.0</td>\n",
       "      <td>-658.0</td>\n",
       "      <td>-234.0</td>\n",
       "    </tr>\n",
       "  </tbody>\n",
       "</table>\n",
       "</div>"
      ],
      "text/plain": [
       "  Type  carbon_12_13  nitrogen_14_15  silicon_29_28  silicon_30_28\n",
       "0    X         74.30           207.4         -685.0         -520.0\n",
       "1    X       1581.00           116.0         -684.0         -490.0\n",
       "2    X        234.75           187.2         -683.0         -501.0\n",
       "3    X        455.00           140.0         -662.0         -770.0\n",
       "4    X        823.00            44.0         -658.0         -234.0"
      ]
     },
     "execution_count": 2,
     "metadata": {},
     "output_type": "execute_result"
    }
   ],
   "source": [
    "# Read the csv file into a pandas DataFrame\n",
    "C_Si_N = pd.read_csv('presolargrains_C_Si_N.csv')\n",
    "C_Si_N.head()"
   ]
  },
  {
   "cell_type": "code",
   "execution_count": 3,
   "metadata": {},
   "outputs": [
    {
     "name": "stdout",
     "output_type": "stream",
     "text": [
      "(1301, 4) (1301, 1)\n"
     ]
    }
   ],
   "source": [
    "# Set Type for y value\n",
    "X = C_Si_N.drop(\"Type\", axis=1)\n",
    "y = C_Si_N['Type'].values.reshape(-1, 1)\n",
    "target_names = [\"AB\", \"C\", \"M\", \"N\", \"U\", \"X\", \"Y\", \"Z\"]\n",
    "print(X.shape, y.shape)"
   ]
  },
  {
   "cell_type": "code",
   "execution_count": 6,
   "metadata": {},
   "outputs": [
    {
     "data": {
      "text/plain": [
       "array([-7.7000e+02, -7.1900e+02, -7.0500e+02, -6.9400e+02, -6.9100e+02,\n",
       "       -6.6800e+02, -6.5900e+02, -6.5800e+02, -6.4714e+02, -6.4700e+02,\n",
       "       -6.3000e+02, -6.2800e+02, -6.1700e+02, -6.0500e+02, -5.9900e+02,\n",
       "       -5.9400e+02, -5.9300e+02, -5.8900e+02, -5.8700e+02, -5.8500e+02,\n",
       "       -5.8200e+02, -5.8100e+02, -5.7200e+02, -5.6800e+02, -5.6500e+02,\n",
       "       -5.5300e+02, -5.5200e+02, -5.4900e+02, -5.3600e+02, -5.3500e+02,\n",
       "       -5.3000e+02, -5.2900e+02, -5.2800e+02, -5.2300e+02, -5.2200e+02,\n",
       "       -5.2000e+02, -5.1900e+02, -5.1700e+02, -5.1200e+02, -5.1100e+02,\n",
       "       -5.1000e+02, -5.0800e+02, -5.0400e+02, -5.0190e+02, -5.0100e+02,\n",
       "       -5.0000e+02, -4.9800e+02, -4.9680e+02, -4.9600e+02, -4.9400e+02,\n",
       "       -4.9300e+02, -4.9100e+02, -4.9000e+02, -4.8400e+02, -4.8100e+02,\n",
       "       -4.8000e+02, -4.7900e+02, -4.7700e+02, -4.7300e+02, -4.7200e+02,\n",
       "       -4.7100e+02, -4.6900e+02, -4.6800e+02, -4.6700e+02, -4.6500e+02,\n",
       "       -4.6300e+02, -4.6188e+02, -4.6100e+02, -4.5900e+02, -4.5800e+02,\n",
       "       -4.5600e+02, -4.5400e+02, -4.5000e+02, -4.4830e+02, -4.4800e+02,\n",
       "       -4.4600e+02, -4.4500e+02, -4.4300e+02, -4.4100e+02, -4.4000e+02,\n",
       "       -4.3900e+02, -4.3800e+02, -4.3300e+02, -4.3200e+02, -4.3100e+02,\n",
       "       -4.3000e+02, -4.2900e+02, -4.2700e+02, -4.2300e+02, -4.2100e+02,\n",
       "       -4.1900e+02, -4.1700e+02, -4.1600e+02, -4.1300e+02, -4.1200e+02,\n",
       "       -4.1149e+02, -4.1000e+02, -4.0700e+02, -4.0600e+02, -4.0400e+02,\n",
       "       -4.0300e+02, -4.0100e+02, -4.0000e+02, -3.9900e+02, -3.9800e+02,\n",
       "       -3.9200e+02, -3.8900e+02, -3.8800e+02, -3.8700e+02, -3.8400e+02,\n",
       "       -3.8100e+02, -3.7900e+02, -3.7800e+02, -3.7779e+02, -3.7500e+02,\n",
       "       -3.7300e+02, -3.6700e+02, -3.6500e+02, -3.6314e+02, -3.6300e+02,\n",
       "       -3.6200e+02, -3.6100e+02, -3.6000e+02, -3.5900e+02, -3.5700e+02,\n",
       "       -3.5300e+02, -3.4800e+02, -3.4700e+02, -3.4100e+02, -3.3800e+02,\n",
       "       -3.3600e+02, -3.3300e+02, -3.3084e+02, -3.3000e+02, -3.2600e+02,\n",
       "       -3.2100e+02, -3.1900e+02, -3.1800e+02, -3.1731e+02, -3.1500e+02,\n",
       "       -3.1300e+02, -3.0900e+02, -3.0800e+02, -3.0664e+02, -3.0100e+02,\n",
       "       -3.0000e+02, -2.9600e+02, -2.8300e+02, -2.7900e+02, -2.7700e+02,\n",
       "       -2.7400e+02, -2.7300e+02, -2.6900e+02, -2.6800e+02, -2.6400e+02,\n",
       "       -2.6300e+02, -2.6200e+02, -2.6136e+02, -2.5500e+02, -2.4900e+02,\n",
       "       -2.4800e+02, -2.4600e+02, -2.4400e+02, -2.4000e+02, -2.3500e+02,\n",
       "       -2.3400e+02, -2.3000e+02, -2.1900e+02, -2.1800e+02, -2.1600e+02,\n",
       "       -2.0500e+02, -2.0000e+02, -1.9900e+02, -1.9700e+02, -1.9500e+02,\n",
       "       -1.9400e+02, -1.9100e+02, -1.8900e+02, -1.8700e+02, -1.8400e+02,\n",
       "       -1.7100e+02, -1.6700e+02, -1.6100e+02, -1.5200e+02, -1.4200e+02,\n",
       "       -1.1900e+02, -1.0700e+02, -1.0100e+02, -1.0000e+02, -9.2000e+01,\n",
       "       -8.9000e+01, -8.5000e+01, -8.0000e+01, -7.2000e+01, -6.8000e+01,\n",
       "       -6.4000e+01, -6.3000e+01, -5.4000e+01, -5.3000e+01, -4.9000e+01,\n",
       "       -4.8000e+01, -4.7000e+01, -4.6000e+01, -4.4000e+01, -4.1000e+01,\n",
       "       -3.8000e+01, -3.6000e+01, -3.4000e+01, -3.1000e+01, -3.0000e+01,\n",
       "       -2.9210e+01, -2.8000e+01, -2.7000e+01, -2.3000e+01, -2.0300e+01,\n",
       "       -1.9500e+01, -1.9000e+01, -1.8000e+01, -1.7000e+01, -1.6200e+01,\n",
       "       -1.6000e+01, -1.4500e+01, -1.4000e+01, -1.2000e+01, -1.1500e+01,\n",
       "       -1.1100e+01, -1.0800e+01, -1.0000e+01, -9.7000e+00, -9.0000e+00,\n",
       "       -8.9100e+00, -8.0000e+00, -7.4000e+00, -7.0000e+00, -6.2000e+00,\n",
       "       -6.0000e+00, -5.0000e+00, -4.0000e+00, -3.9100e+00, -3.9000e+00,\n",
       "       -3.8000e+00, -3.2000e+00, -3.0000e+00, -2.6000e+00, -2.5000e+00,\n",
       "       -2.2000e+00, -2.0000e+00, -1.9000e+00, -1.6000e+00, -1.3000e+00,\n",
       "       -1.1000e+00, -1.0000e+00, -6.0000e-01, -1.0000e-01,  0.0000e+00,\n",
       "        1.0000e-01,  4.0000e-01,  9.0000e-01,  1.0000e+00,  2.0000e+00,\n",
       "        2.6000e+00,  2.9000e+00,  3.0000e+00,  3.1000e+00,  3.2000e+00,\n",
       "        4.0000e+00,  4.7000e+00,  5.0000e+00,  6.0000e+00,  7.0000e+00,\n",
       "        8.0000e+00,  9.0000e+00,  9.9000e+00,  1.0000e+01,  1.1000e+01,\n",
       "        1.1100e+01,  1.1800e+01,  1.1900e+01,  1.2000e+01,  1.3000e+01,\n",
       "        1.3450e+01,  1.3900e+01,  1.4000e+01,  1.4040e+01,  1.4630e+01,\n",
       "        1.5000e+01,  1.5700e+01,  1.6000e+01,  1.6400e+01,  1.6800e+01,\n",
       "        1.6900e+01,  1.7000e+01,  1.7300e+01,  1.7900e+01,  1.8000e+01,\n",
       "        1.8400e+01,  1.8800e+01,  1.9000e+01,  2.0000e+01,  2.1000e+01,\n",
       "        2.1690e+01,  2.2000e+01,  2.2900e+01,  2.3000e+01,  2.3160e+01,\n",
       "        2.3200e+01,  2.3460e+01,  2.3500e+01,  2.3700e+01,  2.4000e+01,\n",
       "        2.4700e+01,  2.5000e+01,  2.5200e+01,  2.5700e+01,  2.5900e+01,\n",
       "        2.6000e+01,  2.6200e+01,  2.6500e+01,  2.6800e+01,  2.6900e+01,\n",
       "        2.7000e+01,  2.7900e+01,  2.8000e+01,  2.8500e+01,  2.8900e+01,\n",
       "        2.9000e+01,  2.9300e+01,  2.9800e+01,  2.9900e+01,  3.0000e+01,\n",
       "        3.0820e+01,  3.1000e+01,  3.1700e+01,  3.2000e+01,  3.2200e+01,\n",
       "        3.2300e+01,  3.2500e+01,  3.2800e+01,  3.2900e+01,  3.3000e+01,\n",
       "        3.3100e+01,  3.3170e+01,  3.4000e+01,  3.4200e+01,  3.4350e+01,\n",
       "        3.4800e+01,  3.5000e+01,  3.5400e+01,  3.5700e+01,  3.6000e+01,\n",
       "        3.6300e+01,  3.6700e+01,  3.7000e+01,  3.7400e+01,  3.8000e+01,\n",
       "        3.8170e+01,  3.8200e+01,  3.8400e+01,  3.8700e+01,  3.9000e+01,\n",
       "        3.9100e+01,  3.9200e+01,  3.9600e+01,  4.0000e+01,  4.0300e+01,\n",
       "        4.1000e+01,  4.1100e+01,  4.1410e+01,  4.1700e+01,  4.1800e+01,\n",
       "        4.2000e+01,  4.2300e+01,  4.2600e+01,  4.3000e+01,  4.3100e+01,\n",
       "        4.3170e+01,  4.3700e+01,  4.4000e+01,  4.4300e+01,  4.4500e+01,\n",
       "        4.4900e+01,  4.5000e+01,  4.5900e+01,  4.6000e+01,  4.6100e+01,\n",
       "        4.6300e+01,  4.6600e+01,  4.6800e+01,  4.7000e+01,  4.7800e+01,\n",
       "        4.8000e+01,  4.8180e+01,  4.8200e+01,  4.9000e+01,  4.9060e+01,\n",
       "        4.9200e+01,  5.0000e+01,  5.0100e+01,  5.0800e+01,  5.1000e+01,\n",
       "        5.1300e+01,  5.1400e+01,  5.1500e+01,  5.1600e+01,  5.2000e+01,\n",
       "        5.2300e+01,  5.2900e+01,  5.3000e+01,  5.3100e+01,  5.3470e+01,\n",
       "        5.3600e+01,  5.3700e+01,  5.3900e+01,  5.4000e+01,  5.4300e+01,\n",
       "        5.4600e+01,  5.4900e+01,  5.5000e+01,  5.5300e+01,  5.5500e+01,\n",
       "        5.5600e+01,  5.5700e+01,  5.5900e+01,  5.6000e+01,  5.6100e+01,\n",
       "        5.6400e+01,  5.6500e+01,  5.6710e+01,  5.7000e+01,  5.7500e+01,\n",
       "        5.7900e+01,  5.8000e+01,  5.8480e+01,  5.8500e+01,  5.8770e+01,\n",
       "        5.9000e+01,  5.9500e+01,  5.9800e+01,  6.0000e+01,  6.0100e+01,\n",
       "        6.1000e+01,  6.1700e+01,  6.2000e+01,  6.2300e+01,  6.3000e+01,\n",
       "        6.3100e+01,  6.3700e+01,  6.3800e+01,  6.4000e+01,  6.4200e+01,\n",
       "        6.4400e+01,  6.4660e+01,  6.5000e+01,  6.5400e+01,  6.6000e+01,\n",
       "        6.6200e+01,  6.7000e+01,  6.7400e+01,  6.7600e+01,  6.8000e+01,\n",
       "        6.8300e+01,  6.8400e+01,  6.8780e+01,  6.9000e+01,  7.0000e+01,\n",
       "        7.0400e+01,  7.0540e+01,  7.1000e+01,  7.1900e+01,  7.2000e+01,\n",
       "        7.2200e+01,  7.2800e+01,  7.3000e+01,  7.3100e+01,  7.3200e+01,\n",
       "        7.3500e+01,  7.3780e+01,  7.4000e+01,  7.4370e+01,  7.4960e+01,\n",
       "        7.5000e+01,  7.5200e+01,  7.6000e+01,  7.7000e+01,  7.8000e+01,\n",
       "        7.8200e+01,  7.9000e+01,  7.9370e+01,  7.9400e+01,  7.9600e+01,\n",
       "        8.0000e+01,  8.0550e+01,  8.0600e+01,  8.1000e+01,  8.1100e+01,\n",
       "        8.1720e+01,  8.2000e+01,  8.3000e+01,  8.3100e+01,  8.3300e+01,\n",
       "        8.4000e+01,  8.4200e+01,  8.5000e+01,  8.5300e+01,  8.6000e+01,\n",
       "        8.6100e+01,  8.6200e+01,  8.7000e+01,  8.7020e+01,  8.7400e+01,\n",
       "        8.8000e+01,  8.9000e+01,  9.0000e+01,  9.1000e+01,  9.2000e+01,\n",
       "        9.2800e+01,  9.3000e+01,  9.3800e+01,  9.3900e+01,  9.4000e+01,\n",
       "        9.4670e+01,  9.5000e+01,  9.5200e+01,  9.6000e+01,  9.6700e+01,\n",
       "        9.7000e+01,  9.8000e+01,  9.9000e+01,  9.9100e+01,  1.0000e+02,\n",
       "        1.0100e+02,  1.0120e+02,  1.0144e+02,  1.0200e+02,  1.0210e+02,\n",
       "        1.0300e+02,  1.0400e+02,  1.0420e+02,  1.0490e+02,  1.0500e+02,\n",
       "        1.0600e+02,  1.0700e+02,  1.0770e+02,  1.0800e+02,  1.0900e+02,\n",
       "        1.1000e+02,  1.1100e+02,  1.1200e+02,  1.1300e+02,  1.1310e+02,\n",
       "        1.1600e+02,  1.1700e+02,  1.1900e+02,  1.2000e+02,  1.2027e+02,\n",
       "        1.2060e+02,  1.2100e+02,  1.2190e+02,  1.2400e+02,  1.2520e+02,\n",
       "        1.2600e+02,  1.2660e+02,  1.2700e+02,  1.2900e+02,  1.3000e+02,\n",
       "        1.3200e+02,  1.3400e+02,  1.3440e+02,  1.3500e+02,  1.3640e+02,\n",
       "        1.3660e+02,  1.3700e+02,  1.3800e+02,  1.4000e+02,  1.4180e+02,\n",
       "        1.4190e+02,  1.4300e+02,  1.4800e+02,  1.4900e+02,  1.5200e+02,\n",
       "        1.5300e+02,  1.5900e+02,  1.6800e+02,  1.7080e+02,  1.7170e+02,\n",
       "        1.7800e+02,  1.8200e+02,  1.8340e+02,  1.9100e+02,  1.9320e+02,\n",
       "        1.9600e+02,  2.0700e+02,  2.2300e+02,  2.3500e+02,  2.3700e+02,\n",
       "        2.8200e+02,  2.9600e+02,  3.2100e+02,  3.2600e+02,  3.3300e+02,\n",
       "        3.5400e+02,  3.6300e+02,  3.6700e+02,  3.9700e+02,  4.5500e+02,\n",
       "        5.1000e+02,  8.7400e+02,  9.2700e+02,  1.0070e+03,  1.2070e+03,\n",
       "        1.2450e+03,  1.2720e+03,  1.2830e+03,  3.2870e+03])"
      ]
     },
     "execution_count": 6,
     "metadata": {},
     "output_type": "execute_result"
    }
   ],
   "source": [
    "# Label Encoder and Transform\n",
    "label_encoder = LabelEncoder()\n",
    "\n",
    "data = X.copy()\n",
    "\n",
    "label_encoder.fit(data['carbon_12_13'])\n",
    "label_encoder.transform(data.carbon_12_13)\n",
    "label_encoder.fit(data['nitrogen_14_15'])\n",
    "label_encoder.transform(data.nitrogen_14_15)\n",
    "label_encoder.fit(data['silicon_29_28'])\n",
    "label_encoder.transform(data.silicon_29_28)\n",
    "label_encoder.fit(data['silicon_30_28'])\n",
    "label_encoder.transform(data.silicon_30_28)\n",
    "label_encoder.classes_\n"
   ]
  },
  {
   "cell_type": "markdown",
   "metadata": {},
   "source": [
    "## Create Train Test Split"
   ]
  },
  {
   "cell_type": "code",
   "execution_count": 7,
   "metadata": {},
   "outputs": [],
   "source": [
    "# Separate data into train and test buckets\n",
    "data_train, data_test, y_train, y_test = train_test_split(X, y, random_state=1, stratify=y)"
   ]
  },
  {
   "cell_type": "markdown",
   "metadata": {},
   "source": [
    "## Scale the data using MinMaxScalar"
   ]
  },
  {
   "cell_type": "code",
   "execution_count": 8,
   "metadata": {},
   "outputs": [],
   "source": [
    "# MinMaxScalar\n",
    "data_minmax = MinMaxScaler().fit(data_train)\n",
    "\n",
    "data_train_minmax = data_minmax.transform(data_train)\n",
    "data_test_minmax = data_minmax.transform(data_test)\n"
   ]
  },
  {
   "cell_type": "markdown",
   "metadata": {},
   "source": [
    "## Find the best k value"
   ]
  },
  {
   "cell_type": "code",
   "execution_count": 9,
   "metadata": {},
   "outputs": [
    {
     "name": "stdout",
     "output_type": "stream",
     "text": [
      "k: 1, Train/Test Score: 1.000/0.871\n",
      "k: 3, Train/Test Score: 0.911/0.837\n",
      "k: 5, Train/Test Score: 0.876/0.831\n",
      "k: 7, Train/Test Score: 0.861/0.819\n",
      "k: 9, Train/Test Score: 0.841/0.819\n",
      "k: 11, Train/Test Score: 0.832/0.810\n",
      "k: 13, Train/Test Score: 0.829/0.804\n",
      "k: 15, Train/Test Score: 0.825/0.807\n",
      "k: 17, Train/Test Score: 0.821/0.807\n",
      "k: 19, Train/Test Score: 0.819/0.807\n"
     ]
    }
   ],
   "source": [
    "# Loop through different k values to see which has the highest accuracy\n",
    "# Note: We only use odd numbers because we don't want any ties\n",
    "train_scores = []\n",
    "test_scores = []\n",
    "for k in range(1, 20, 2):\n",
    "    knn = KNeighborsClassifier(n_neighbors=k)\n",
    "    #knn.fit(X_train_minmax, y_train_minmax)\n",
    "    #train_score = knn.score(X_train_minmax, y_train_minmax)\n",
    "    #test_score = knn.score(X_test_minmax, y_test_minmax)\n",
    "    knn.fit(data_train_minmax, y_train)\n",
    "    train_score = knn.score(data_train_minmax, y_train)\n",
    "    test_score = knn.score(data_test_minmax, y_test)\n",
    "    train_scores.append(train_score)\n",
    "    test_scores.append(test_score)\n",
    "    print(f\"k: {k}, Train/Test Score: {train_score:.3f}/{test_score:.3f}\")"
   ]
  },
  {
   "cell_type": "markdown",
   "metadata": {},
   "source": [
    "## Plot the train and test scores"
   ]
  },
  {
   "cell_type": "code",
   "execution_count": 10,
   "metadata": {},
   "outputs": [
    {
     "data": {
      "image/png": "[encoded data removed]",
      "text/plain": [
       "<Figure size 432x288 with 1 Axes>"
      ]
     },
     "metadata": {
      "needs_background": "light"
     },
     "output_type": "display_data"
    }
   ],
   "source": [
    "# Plot train scores in blue with marker 'o' and test scores in orange with marker 'x'\n",
    "plt.plot(range(1, 20, 2), train_scores, marker='o')\n",
    "plt.plot(range(1, 20, 2), test_scores, marker=\"x\")\n",
    "plt.xlabel(\"k neighbors\")\n",
    "plt.ylabel(\"Testing accuracy score\")\n",
    "plt.show()"
   ]
  },
  {
   "cell_type": "markdown",
   "metadata": {},
   "source": [
    "## Train the model and return the test score"
   ]
  },
  {
   "cell_type": "code",
   "execution_count": 11,
   "metadata": {},
   "outputs": [
    {
     "name": "stdout",
     "output_type": "stream",
     "text": [
      "k=1 Test Acc: 0.871\n"
     ]
    }
   ],
   "source": [
    "knn = KNeighborsClassifier(n_neighbors=1)\n",
    "knn.fit(data_train_minmax, y_train)\n",
    "print('k=1 Test Acc: %.3f' % knn.score(data_test_minmax, y_test))"
   ]
  },
  {
   "cell_type": "markdown",
   "metadata": {},
   "source": [
    "## Save the model"
   ]
  },
  {
   "cell_type": "code",
   "execution_count": 12,
   "metadata": {},
   "outputs": [
    {
     "data": {
      "text/plain": [
       "['kNN_C_Si_N.sav']"
      ]
     },
     "execution_count": 12,
     "metadata": {},
     "output_type": "execute_result"
    }
   ],
   "source": [
    "# Save model to file\n",
    "filename = 'kNN_C_Si_N.sav'\n",
    "joblib.dump(knn, filename)"
   ]
  },
  {
   "cell_type": "markdown",
   "metadata": {},
   "source": [
    "## Summary:"
   ]
  },
  {
   "cell_type": "markdown",
   "metadata": {},
   "source": [
    "### k Nearest Neighbor carbon, silicon, and nitrogen (k=1): 87.1%"
   ]
  },
  {
   "cell_type": "code",
   "execution_count": null,
   "metadata": {},
   "outputs": [],
   "source": []
  }
 ],
 "metadata": {
  "kernelspec": {
   "display_name": "Python 3",
   "language": "python",
   "name": "python3"
  },
  "language_info": {
   "codemirror_mode": {
    "name": "ipython",
    "version": 3
   },
   "file_extension": ".py",
   "mimetype": "text/x-python",
   "name": "python",
   "nbconvert_exporter": "python",
   "pygments_lexer": "ipython3",
   "version": "3.7.3"
  }
 },
 "nbformat": 4,
 "nbformat_minor": 2
}
